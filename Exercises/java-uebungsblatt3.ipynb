{
 "cells": [
  {
   "cell_type": "markdown",
   "metadata": {
    "deletable": false
   },
   "source": [
    "\n",
    "# Grundlagen der Programmierung  <br/> Übungsblatt 03 - Methoden\n",
    "#### Marcel Lüthi, Andreas Morel-Forster <br/> Departement Mathematik und Informatik, Universität Basel\n"
   ]
  },
  {
   "cell_type": "markdown",
   "metadata": {
    "deletable": false
   },
   "source": [
    "In diesem Notebook üben Sie\n",
    "- wie man unterschiedliche Methoden schreibt.\n",
    "- den Unterschied von *zurückgeben* und *ausgeben*.\n",
    "- wie man Methoden überladen kann.\n",
    "- Strings zu formatieren.\n",
    "- Eingaben eines Benutzers verwendet."
   ]
  },
  {
   "cell_type": "markdown",
   "metadata": {
    "deletable": false
   },
   "source": [
    "### Installation SEB - Safe Exam Browser "
   ]
  },
  {
   "cell_type": "markdown",
   "metadata": {
    "deletable": false
   },
   "source": [
    "Bevor Sie mit den Übungen beginnen, setzten wir unser System etwas weiter auf.\n",
    "\n",
    "Wir werden unsere Prüfungen mit Jupyter-Notebooks schreiben, mit dem Ziel, dass Sie den Java-Kompiler benutzen. Sie werden also auf Ihrem Computer die Prüfung ablegen. Wir möchten jedoch nicht, dass Sie das Internet uneingeschränkt nutzen können. Deshalb setzen wir auf ein Programm, welches Ihnen das Arbeiten ermöglicht, Sie aber davon abhält andere Dinge zu tun.\n",
    "\n",
    "Sie müssen an den Prüfungen den Save Exam Browser verwenden. Dieser funktioniert nur auf Windows und auf macOS. Wenn Sie nur einen Laptop mit einem Linux Betriebsystem haben, leihen Sie sich bitte von jemanden ein Ersatzgerät. Sie können auch bei der [Uni Basel](https://its.unibas.ch/de/anleitungen/leihen-bestellen/) anfragen, um ein Leihgerät zu erhalten.\n",
    "\n",
    "Um bestens auf die Probeklausur vorbereitet zu sein, installieren Sie doch bitte den Safe Exam Browser. Downloaden können Sie den Installer [hier](https://safeexambrowser.org/download_de.html)."
   ]
  },
  {
   "cell_type": "markdown",
   "metadata": {
    "deletable": false
   },
   "source": [
    "### Methoden Drill"
   ]
  },
  {
   "cell_type": "markdown",
   "metadata": {
    "deletable": false
   },
   "source": [
    "Methoden sind zentral für das Programmieren. Eine Methode benennt eine Stück Programmcode. Ein gut gewählter Name gibt einem schon ein Gefühl dafür, was eine Methode tun könnte. Somit kann eine Methode oft schon verwendet werden, auch wenn man nur die Deklaration der Methode kennt und noch nicht weiss wie diese implementiert ist. Sie sollten deshalb unbedingt schon ganz früh lernen Methoden zu schreiben und zu benutzen. Deshalb werden Sie als erstes viele Methoden schreiben, welche fast nichts tun um uns auf die Deklaration zu konzentrieren.\n",
    "\n",
    "Methoden sind, wie alles beim Programmieren nach einem strikten Schema aufgebaut. Versuchen Sie sich doch eine Art Schablone zu erarbeiten wie Methodendeklarationen aufgebaut sind. Für den jetzigen Stand der Vorlesung könnte folgendes ein Startpunkt sein:\n",
    "```java\n",
    "public static <RType> <NAME> ( <PType> <PNAME>, ... ) {\n",
    "    // some code, maybe a return\n",
    "}\n",
    "```\n",
    "\n",
    "Dabei steht `RType` für den Typ des Rückgabewertes und `PType` für den Typ des Parameters. Bedenken Sie, dass ein Methode keinen oder aber auch mehrere Parameter haben kann."
   ]
  },
  {
   "cell_type": "markdown",
   "metadata": {
    "deletable": false
   },
   "source": [
    "#### Aufgabe 1 - Motivation [3 Punkte]"
   ]
  },
  {
   "cell_type": "markdown",
   "metadata": {
    "deletable": false
   },
   "source": [
    "Ergänzen Sie die folgende Klasse um eine parameterlose Methode welche nichts zurück gibt. Diese soll den Benutzer des Programms motivieren weiter programmieren zu üben in dem ein Text auf den Bildschirm ausgegeben wird.\n",
    "\n",
    "Es sollen folgende Bedingungen erfüllt sein:\n",
    "- Die Methode soll den Namen `speech` haben.\n",
    "- Die Methode soll keine Parameter übergeben bekommen.\n",
    "- Die Methode soll nichts zurück geben.\n",
    "- Die Methode soll bei einem Aufruf eine Ausgabe erzeugen, welche auf der ersten Zeile mit `\"Super\"` beginnt und aus genau zwei, nicht leeren Zeilen besteht."
   ]
  },
  {
   "cell_type": "code",
   "execution_count": 1,
   "metadata": {
    "deletable": false,
    "exercise_id": 1
   },
   "outputs": [],
   "source": [
    "public class Motivation {\n",
    "    \n",
    "    public static void speech() {\n",
    "        System.out.println(\"Super\");\n",
    "        System.out.println(\"nichtleere Zeile\");\n",
    "    }\n",
    "    \n",
    "    public static void main(String[] args) {\n",
    "        speech();\n",
    "    }\n",
    "}"
   ]
  },
  {
   "cell_type": "code",
   "execution_count": 2,
   "metadata": {
    "deletable": false
   },
   "outputs": [
    {
     "name": "stdout",
     "output_type": "stream",
     "text": [
      "Super\n",
      "nichtleere Zeile\n"
     ]
    }
   ],
   "source": [
    "Motivation.main(new String[0]);"
   ]
  },
  {
   "cell_type": "markdown",
   "metadata": {
    "deletable": false
   },
   "source": [
    "#### Aufgabe 2 - Parameterisiert [3 Punkte]"
   ]
  },
  {
   "cell_type": "markdown",
   "metadata": {
    "deletable": false
   },
   "source": [
    "Schreiben Sie eine Methode welche einen Namen entgegen nimmt und nichts zurück gibt. Diese soll den Benutzer des Programms mit einer Ausgabe auf den Bildschirm persönlich begrüssen.\n",
    "\n",
    "Überlegen Sie sich welchen Typ Sie für die Variable verwenden müssen.\n",
    "\n",
    "Es sollen folgende Bedingungen erfüllt sein:\n",
    "- Die Methode soll den Namen `hi` haben.\n",
    "- Die Methode soll einen Namen übergeben bekommen.\n",
    "- Die Methode soll nichts zurück geben.\n",
    "- Die Ausgabe soll aus einer Zeile bestehen, welche mit `\"Hi NAME\"` beginnt.<br/>(Beispiel: Für den Namen *Bill* soll die Ausgabe mit \"Hi Bill\" beginnen und für *Steve* mit der Ausgabe \"Hi Steve\".)"
   ]
  },
  {
   "cell_type": "code",
   "execution_count": 3,
   "metadata": {
    "deletable": false,
    "exercise_id": 2
   },
   "outputs": [],
   "source": [
    "public class Greetings {\n",
    "    // Ihre Lösung kommt hier hin\n",
    "    public static void hi(String name) {\n",
    "        System.out.println(\"Hi \" + name);\n",
    "    }\n",
    "    \n",
    "    public static void main(String[] args) {\n",
    "        hi(\"Bill\");\n",
    "    }\n",
    "}"
   ]
  },
  {
   "cell_type": "code",
   "execution_count": 4,
   "metadata": {
    "deletable": false
   },
   "outputs": [
    {
     "name": "stdout",
     "output_type": "stream",
     "text": [
      "Hi Bill\n"
     ]
    }
   ],
   "source": [
    "Greetings.main(new String[0]);"
   ]
  },
  {
   "cell_type": "markdown",
   "metadata": {
    "deletable": false
   },
   "source": [
    "#### Aufgabe 3 - Rückgabe [2 Punkte]"
   ]
  },
  {
   "cell_type": "markdown",
   "metadata": {
    "deletable": false
   },
   "source": [
    "Schreiben Sie eine Methode welche einen Namen als Parameter bekommt und einen Text zurück gibt. Diese soll etwas Nettes sein, dass über die Person mit diesem Namen gesagt wird.\n",
    "\n",
    "Es sollen folgende Bedingungen erfüllt sein:\n",
    "- Die Methode soll den Namen `compliment` haben.\n",
    "- Die Methode soll einen Namen übergeben bekommen.\n",
    "- Die Methode soll einen Text zurück geben in dem der übergebene Name vorkommt.\n",
    "- Die Methode soll nichts auf den Bildschirm ausgeben.<br/>(Hinweis: Es ist in Ordnung die Ausgabe in der main-Methode stehen zu lassen.)"
   ]
  },
  {
   "cell_type": "code",
   "execution_count": 5,
   "metadata": {
    "deletable": false,
    "exercise_id": 3
   },
   "outputs": [],
   "source": [
    "public class BeNice {\n",
    "    // Ihre Lösung kommt hier hin\n",
    "    public static String compliment(String name) {\n",
    "        return \"Ein Text in dem der Name \" + name + \" vorkommt\";\n",
    "    }\n",
    "    \n",
    "    public static void main(String[] args) {\n",
    "        System.out.println(compliment(\"Steve\"));\n",
    "    }\n",
    "}"
   ]
  },
  {
   "cell_type": "code",
   "execution_count": 6,
   "metadata": {
    "deletable": false
   },
   "outputs": [
    {
     "name": "stdout",
     "output_type": "stream",
     "text": [
      "Ein Text in dem der Name Steve vorkommt\n"
     ]
    }
   ],
   "source": [
    "BeNice.main(new String[0]);"
   ]
  },
  {
   "cell_type": "markdown",
   "metadata": {
    "deletable": false
   },
   "source": [
    "#### Aufgabe 4 - Zusammen fügen [2 Punkte]"
   ]
  },
  {
   "cell_type": "markdown",
   "metadata": {
    "deletable": false
   },
   "source": [
    "Schreiben Sie eine Funktion `options` welche 3 Texte zusammenfügt und jeweils mit `a)`, `b)` und `c)` kennzeichnet.\n",
    "\n",
    "Wenn Sie Ihre Funktion mit \"Säugetier\", \"Vogel\" \"Fisch\" aufrufen, soll der folgende Text zurück gegeben werden:\n",
    "`a) Säugetier, b) Vogel, c) Fisch`\n",
    "\n",
    "Hinweis: Fügen Sie doch hier auch die `main`-Methode hinzu, so dass Sie Ihre Funktion selber schon testen können."
   ]
  },
  {
   "cell_type": "code",
   "execution_count": 7,
   "metadata": {
    "deletable": false,
    "exercise_id": 4
   },
   "outputs": [],
   "source": [
    "public class Concatenate {\n",
    "    \n",
    "    public static String options(String a, String b, String c) {\n",
    "        return String.format(\"a) %s, b) %s, c) %s\", a,b,c);\n",
    "    }\n",
    "    \n",
    "    public static void main(String[] args) {\n",
    "        System.out.println(options(\"Säugetier\", \"Vogel\", \"Fisch\"));\n",
    "    }\n",
    "}"
   ]
  },
  {
   "cell_type": "code",
   "execution_count": 8,
   "metadata": {
    "deletable": false
   },
   "outputs": [
    {
     "name": "stdout",
     "output_type": "stream",
     "text": [
      "a) Säugetier, b) Vogel, c) Fisch\n"
     ]
    }
   ],
   "source": [
    "Concatenate.main(new String[0]);"
   ]
  },
  {
   "cell_type": "markdown",
   "metadata": {
    "deletable": false
   },
   "source": [
    "#### Aufgabe 5 - Kreissektor [6 Punkte]"
   ]
  },
  {
   "cell_type": "markdown",
   "metadata": {
    "deletable": false
   },
   "source": [
    "Schreiben Sie die Berechnung der Fläche eines Kreissektors welche Sie schon in der Vorlesung gesehen haben neu.\n",
    "Sie sollen dafür:\n",
    "- Eine Funktion `area` schreiben, welche die Kreisfläche für einen übergebenen Radius berechnet.\n",
    "- Eine Funktion `fraction` schreiben, welche den Anteil des Sektors vom ganzen Kreis anhand des Mittelpunktwinkels berechnet.\n",
    "- Eine Funktion `sectorArea` schreiben, welche zuerst den Radius und dann den Mittelpunktwinkel übergeben bekommt und die Fläche mit Hilfe der beiden schon implementierten Funktionen berechnet.\n",
    "\n",
    "Sie können davon ausgehen, dass die Winkel grösser als 0° und kleiner als 360° sind.\n",
    "\n",
    "Hinweis: Fügen Sie doch schon zu Beginn die main-Methode hinzu, so dass Sie jede Ihrer Funktionen einzeln testen können."
   ]
  },
  {
   "cell_type": "code",
   "execution_count": 9,
   "metadata": {
    "deletable": false,
    "exercise_id": 5
   },
   "outputs": [],
   "source": [
    "public class CircleSector {\n",
    "    // Ihre Lösung kommt hier hin\n",
    "    public static double area(Double radius) {\n",
    "        return Math.pow(radius, 2) * Math.PI;\n",
    "    }\n",
    "    \n",
    "    public static double fraction(double angle) {\n",
    "        return angle / 360;\n",
    "    }\n",
    "    \n",
    "    public static double sectorArea(double radius, double angle) {\n",
    "        return area(radius) * fraction(angle);\n",
    "    }\n",
    "    \n",
    "    public static void main(String[] args) {\n",
    "        System.out.println(sectorArea(10, 45));\n",
    "    }\n",
    "}"
   ]
  },
  {
   "cell_type": "code",
   "execution_count": 10,
   "metadata": {
    "deletable": false
   },
   "outputs": [
    {
     "name": "stdout",
     "output_type": "stream",
     "text": [
      "39.269908169872416\n"
     ]
    }
   ],
   "source": [
    "CircleSector.main(new String[0]);"
   ]
  },
  {
   "cell_type": "markdown",
   "metadata": {
    "deletable": false
   },
   "source": [
    "#### Aufgabe 6 - Rechner [5 Punkte]"
   ]
  },
  {
   "cell_type": "markdown",
   "metadata": {
    "deletable": false
   },
   "source": [
    "Schreiben Sie in der folgenden Klasse eine überladene Methode welche die übergeben Zahl geteilt durch die Kreiszahl Pi zurück gibt. Sie können die schon vordefinierte Variable `Math.PI` für die Kreiszahl Pi verwenden.\n",
    "\n",
    "Es sollen folgende Bedingungen erfüllt sein:\n",
    "- Schreiben Sie zwei Methoden mit dem selben Namen `divideByPi`.\n",
    "- Die erste Methode soll einen Parameter vom Typ `double` haben und auch einen Wert vom Typ `double` zurück geben.\n",
    "- Die zweite Methode soll als Typ für den Parameter und den Rückgabewert `int` verwenden.\n",
    "\n",
    "*Zum Nachdenken*\n",
    "- Weshalb kann man den das Programm schon laufen lassen, wenn Sie nur die Variante mit dem Typ `double` programmiert haben?\n",
    "- Weshalb sieht man in der Ausgabe dreimal eine Gleitkommazahlen und nur einmal eine ganze Zahl?"
   ]
  },
  {
   "cell_type": "code",
   "execution_count": 11,
   "metadata": {
    "deletable": false,
    "exercise_id": 6
   },
   "outputs": [],
   "source": [
    "public class Calculator {\n",
    "    // Ihre Lösung kommt hier hin\n",
    "    public static double divideByPi(double value) {\n",
    "        return value / Math.PI;\n",
    "    }\n",
    "    \n",
    "    public static int divideByPi(int value) {\n",
    "        return (int)(value / Math.PI);\n",
    "    }\n",
    "    \n",
    "    public static void main(String[] args) {\n",
    "        int i = 3;\n",
    "        double d = 3.0;\n",
    "        float f = 3.0f;\n",
    "        long l = 3;\n",
    "        System.out.println(\"Die Kreiszahl Pi ist \" + Math.PI);\n",
    "        System.out.println(i + \" geteilt durch die Kreiszahl Pi ist \" + divideByPi(i));\n",
    "        System.out.println(d + \" geteilt durch die Kreiszahl Pi ist \" + divideByPi(d));\n",
    "        System.out.println(f + \" geteilt durch die Kreiszahl Pi ist \" + divideByPi(f));\n",
    "        System.out.println(l + \" geteilt durch die Kreiszahl Pi ist \" + divideByPi(l));\n",
    "    }\n",
    "}"
   ]
  },
  {
   "cell_type": "code",
   "execution_count": 12,
   "metadata": {
    "deletable": false
   },
   "outputs": [
    {
     "name": "stdout",
     "output_type": "stream",
     "text": [
      "Die Kreiszahl Pi ist 3.141592653589793\n",
      "3 geteilt durch die Kreiszahl Pi ist 0\n",
      "3.0 geteilt durch die Kreiszahl Pi ist 0.954929658551372\n",
      "3.0 geteilt durch die Kreiszahl Pi ist 0.954929658551372\n",
      "3 geteilt durch die Kreiszahl Pi ist 0.954929658551372\n"
     ]
    }
   ],
   "source": [
    "Calculator.main(new String[0]);"
   ]
  },
  {
   "cell_type": "markdown",
   "metadata": {
    "deletable": false
   },
   "source": [
    "#### Aufgabe 7 - Schöne Ausgaben [8 Punkte]"
   ]
  },
  {
   "cell_type": "markdown",
   "metadata": {
    "deletable": false
   },
   "source": [
    "Wir wollen eine schöne Tabelle ausgeben, also dem Benutzer des Programms anzeigen. Darin sollen Studierende und Ihre erreichten Punkte gelistet werden. Das Ergebnis sollte je nach Aufruf so aussehen:\n",
    "```bash\n",
    "|Name        |Deklaration |Return value|       Total|\n",
    "|------------|------------|------------|------------|\n",
    "|Paul        |          15|          20|          35|\n",
    "|Pirmin      |          12|          24|          36|\n",
    "|Prisca      |          14|          23|          37|\n",
    "```\n",
    "\n",
    "Schreiben Sie dazu die nachfolgend beschriebenen Funktionen:\n",
    "\n",
    "- Testen Sie doch jede Methode welche Sie schreiben durch Aufrufen von der `main`-Methode.\n",
    "- Verwenden Sie die in der Vorlesung vorgestellte Methode `String.format` um Ihre Ausgabe zu formatieren.\n",
    "- Jede Zelle ist `12` Zeichen breit, ohne die Trennzeichen `|`.\n",
    "- Jede Funktion soll nur auf die Anzahl Zellen wie im Beispiel ausgerichtet sein und die dafür passenden Parameter haben.\n",
    "- Die Methode `header` soll die Titel Zeile schön formatiert *zurück geben*. Die Namen der ersten drei Spalten sind dabei Parameter. Die letzte Spalte soll immer `Total` heissen.\n",
    "- Die Methode `separator` soll die Trennzeile *zurück geben*.\n",
    "- Die Methode `result` soll den Namen und die Punkte (nur ganze Zahlen) für die zwei Übungen entgegen nehmen, sowie die Gesamtpunktzahl berechnen. Dann soll die komplette Zeile formatiert *zurück gegeben* werden.\n",
    "- Schreiben Sie eine Methode `printTable` welche die Tabelle im Beispiel mit Hilfe der oben beschriebenen Funktionen *ausgibt*.\n",
    "\n",
    "> *Hinweis - Wenn Ihre Ausgabe korrekt ist, Sie aber keine Punkte bekommen, dann schauen Sie dass Sie die Parameter in der Reihenfolge übergeben, in der Sie auch rausgeschrieben werden.*"
   ]
  },
  {
   "cell_type": "code",
   "execution_count": 1,
   "metadata": {
    "deletable": false,
    "exercise_id": 7
   },
   "outputs": [],
   "source": [
    "public class Formatter {\n",
    "    \n",
    "    public static String header(String a, String b, String c) {\n",
    "        return String.format(\"|%-12s|%-12s|%-12s|%12s|\", a, b, c, \"Total\");\n",
    "    }\n",
    "    \n",
    "    public static String separator() {\n",
    "        String s = \"------------\";\n",
    "        return String.format(\"|%-12s|%-12s|%-12s|%12s|\",s,s,s,s);\n",
    "    }\n",
    "    \n",
    "    public static String result(String name, int a, int b) {\n",
    "            \n",
    "        int total = a + b;\n",
    "        return String.format(\"|%-12s|%12d|%12d|%12d|\", name, a, b, total);\n",
    "    }\n",
    "    \n",
    "    public static void printTable() {\n",
    "        System.out.println(header(\"Name\", \"Deklaration\", \"Return value\"));\n",
    "        System.out.println(separator());\n",
    "        System.out.println(result(\"Paul\", 15, 20));\n",
    "        System.out.println(result(\"Pirmin\", 12, 24));\n",
    "        System.out.println(result(\"Prisca\", 14, 23));\n",
    "    }\n",
    "    \n",
    "    public static void main(String[] args) {\n",
    "        printTable();\n",
    "    }\n",
    "    \n",
    "\n",
    "}"
   ]
  },
  {
   "cell_type": "code",
   "execution_count": 2,
   "metadata": {
    "deletable": false
   },
   "outputs": [
    {
     "name": "stdout",
     "output_type": "stream",
     "text": [
      "|Name        |Deklaration |Return value|       Total|\n",
      "|------------|------------|------------|------------|\n",
      "|Paul        |          15|          20|          35|\n",
      "|Pirmin      |          12|          24|          36|\n",
      "|Prisca      |          14|          23|          37|\n"
     ]
    }
   ],
   "source": [
    "Formatter.main(new String[0]);"
   ]
  },
  {
   "cell_type": "markdown",
   "metadata": {
    "deletable": false
   },
   "source": [
    "#### Aufgabe 8 - Datentypen bestimmen [5 Punkte]"
   ]
  },
  {
   "cell_type": "markdown",
   "metadata": {
    "deletable": false
   },
   "source": [
    "Wir wollen erreichen, dass wir überprüfen können was für ein Typ ein Ausdruck hat. Dazu können wir das Überladen von Methoden verwenden. Dass dies funktioniert, müssen wir die entsprechenden Funktionen schreiben. Schauen Sie sich die `main`-Methode an. Überladen Sie dann eine Methode `printTypeOf` welche eine Parameter übergeben bekommt für die vier eingeführten Zahlentypen und für Text. Sie müssen also fünf Funktionen schreiben.\n",
    "\n",
    "Geben Sie bitte in jeder Methode Texte der folgenden Form aus:\n",
    "```bash\n",
    "Der Ausdruck ist vom Typ int und hat den Wert: 1\n",
    "Der Ausdruck ist vom Typ long und hat den Wert: 1\n",
    "Der Ausdruck ist vom Typ float und hat den Wert: 3.0\n",
    "Der Ausdruck ist vom Typ double und hat den Wert: 0.5\n",
    "Der Ausdruck ist vom Typ String und hat den Wert: Dies ist ein Text\n",
    "```"
   ]
  },
  {
   "cell_type": "code",
   "execution_count": 15,
   "metadata": {
    "deletable": false,
    "exercise_id": 8
   },
   "outputs": [],
   "source": [
    "public class TypeOfExpressions {\n",
    "    // Ihre Lösung kommt hier hin\n",
    "    public static void printTypeOf(int i) {\n",
    "        System.out.println(\"Der Ausdruck ist vom Typ int und hat den Wert: \" + i);\n",
    "    }\n",
    "    \n",
    "    public static void printTypeOf(long l) {\n",
    "        System.out.println(\"Der Ausdruck ist vom Typ long und hat den Wert: \" + l);\n",
    "    }\n",
    "    \n",
    "    public static void printTypeOf(float f) {\n",
    "        System.out.println(\"Der Ausdruck ist vom Typ float und hat den Wert: \" + f);\n",
    "    }\n",
    "    \n",
    "    public static void printTypeOf(double d) {\n",
    "        System.out.println(\"Der Ausdruck ist vom Typ double und hat den Wert: \" + d);\n",
    "    }\n",
    "    \n",
    "    public static void printTypeOf(String s) {\n",
    "        System.out.println(\"Der Ausdruck ist vom Typ String und hat den Wert: \" + s);\n",
    "    }\n",
    "    \n",
    "    public static void main(String[] args) {\n",
    "        // should be recognized as int\n",
    "        printTypeOf(4*5);\n",
    "        printTypeOf(1/2);\n",
    "        printTypeOf(Integer.parseInt(\"42\"));\n",
    "        printTypeOf(Math.round(1f));\n",
    "                    \n",
    "        // should be recognized as long\n",
    "        printTypeOf(1l);\n",
    "        printTypeOf(1/2l);\n",
    "        printTypeOf(Long.parseLong(\"42\"));\n",
    "        printTypeOf(Math.round(1.0));\n",
    "        \n",
    "        // should be recognized as float\n",
    "        printTypeOf(3f);\n",
    "        printTypeOf(3.0f);\n",
    "        printTypeOf(1*2f);\n",
    "        printTypeOf(Float.parseFloat(\"3.1415\"));\n",
    "        \n",
    "        // should be recognized as double\n",
    "        printTypeOf(1.0/2.0);\n",
    "        printTypeOf(Math.random());\n",
    "        printTypeOf(Math.ceil(Math.PI));\n",
    "        printTypeOf(Double.parseDouble(\"3.1415\"));\n",
    "        \n",
    "        // should be recognized as String\n",
    "        printTypeOf(\"Dies ist ein Text\");\n",
    "        printTypeOf(\"Dies ist\" + \"ein Text\");\n",
    "        printTypeOf(\"Ein Text und eine Zahl \" + 2);\n",
    "        printTypeOf(\"Ein Text und eine Zahl \" + 42.0);\n",
    "    }\n",
    "}"
   ]
  },
  {
   "cell_type": "code",
   "execution_count": 16,
   "metadata": {
    "deletable": false
   },
   "outputs": [
    {
     "name": "stdout",
     "output_type": "stream",
     "text": [
      "Der Ausdruck ist vom Typ int und hat den Wert: 20\n",
      "Der Ausdruck ist vom Typ int und hat den Wert: 0\n",
      "Der Ausdruck ist vom Typ int und hat den Wert: 42\n",
      "Der Ausdruck ist vom Typ int und hat den Wert: 1\n",
      "Der Ausdruck ist vom Typ long und hat den Wert: 1\n",
      "Der Ausdruck ist vom Typ long und hat den Wert: 0\n",
      "Der Ausdruck ist vom Typ long und hat den Wert: 42\n",
      "Der Ausdruck ist vom Typ long und hat den Wert: 1\n",
      "Der Ausdruck ist vom Typ float und hat den Wert: 3.0\n",
      "Der Ausdruck ist vom Typ float und hat den Wert: 3.0\n",
      "Der Ausdruck ist vom Typ float und hat den Wert: 2.0\n",
      "Der Ausdruck ist vom Typ float und hat den Wert: 3.1415\n",
      "Der Ausdruck ist vom Typ double und hat den Wert: 0.5\n",
      "Der Ausdruck ist vom Typ double und hat den Wert: 0.04457774282966165\n",
      "Der Ausdruck ist vom Typ double und hat den Wert: 4.0\n",
      "Der Ausdruck ist vom Typ double und hat den Wert: 3.1415\n",
      "Der Ausdruck ist vom Typ String und hat den Wert: Dies ist ein Text\n",
      "Der Ausdruck ist vom Typ String und hat den Wert: Dies istein Text\n",
      "Der Ausdruck ist vom Typ String und hat den Wert: Ein Text und eine Zahl 2\n",
      "Der Ausdruck ist vom Typ String und hat den Wert: Ein Text und eine Zahl 42.0\n"
     ]
    }
   ],
   "source": [
    "TypeOfExpressions.main(new String[0]);"
   ]
  },
  {
   "cell_type": "markdown",
   "metadata": {
    "deletable": false
   },
   "source": [
    "#### Aufgabe 9 - Scanner"
   ]
  },
  {
   "cell_type": "markdown",
   "metadata": {
    "deletable": false
   },
   "source": [
    "*Hinweis: Diese Aufgabe wird nicht automatisch überprüft. Sie sollten jedoch anhand der Ausgabe in der Lage sein abzuschätzen ob Ihre Lösung korrekt funktioniert.*\n",
    "\n",
    "Wir wollen ein ganz einfaches Spiel mit etwas Small-Talk implementieren. Benutzen Sie dazu die `Scanner` Klasse welche in der Vorlesung vorgestellt wurde.\n",
    "\n",
    "- Schreiben Sie eine Methode, welche den Benutzer bittet eine Zahl einzugeben und die Zahl zurück gibt.\n",
    "- Schreiben Sie eine Methode, welche den Benutzer bittet seinen Namen einzugeben und diesen zurück gibt.\n",
    "- Schreiben Sie eine Methode, welche eine Zufällige Zahl von 1 bis und mit 10 generiert.\n",
    "- Schreiben Sie eine Methode, welche die drei Methoden aufruft und die erhaltenen Werte an eine weitere Methode zur Ausgabe weiter reicht.\n",
    "- Schreiben Sie die Methode welche die Ausgabe macht. Dabei soll in etwa so was ausgegeben werden:\n",
    "```bash\n",
    "Hallo Max,\n",
    "Du hast die 7 gewählt.\n",
    "Ich habe an die 9 gedacht.\n",
    "Viel Glück beim nächsten Mal!\n",
    "```\n",
    "- Testen Sie Ihre Methoden in dem Sie diese auch einzeln von der `main`-Methode aus aufrufen.\n",
    "\n"
   ]
  },
  {
   "cell_type": "code",
   "execution_count": 58,
   "metadata": {
    "deletable": false,
    "exercise_id": 9
   },
   "outputs": [],
   "source": [
    "import java.util.Scanner;\n",
    "\n",
    "public class GuessTheNumber {\n",
    "    \n",
    "    public static int enterNumber() {\n",
    "        Scanner scanner = new Scanner(System.in);\n",
    "        System.out.println(\"Geben Sie eine Nummer ein: \");\n",
    "        if (scanner.hasNextInt()) {\n",
    "            return scanner.nextInt();\n",
    "        } else {\n",
    "            return enterNumber();\n",
    "        }\n",
    "    }\n",
    "    \n",
    "        public static String enterName() {\n",
    "        Scanner scanner = new Scanner(System.in);\n",
    "        System.out.println(\"Geben Sie Ihren Namen ein: \");\n",
    "        return scanner.nextLine();\n",
    "    }\n",
    "    \n",
    "    public static int randomNumber() {\n",
    "        return (int)(Math.random() * 10 + 1);\n",
    "    }\n",
    "    \n",
    "    public static void play() {\n",
    "        int guess = enterNumber();\n",
    "        int goal = randomNumber();\n",
    "        String name = enterName();\n",
    "        print(guess, goal, name);\n",
    "        \n",
    "        \n",
    "        \n",
    "    }\n",
    "    \n",
    "    public static void print(int guess, int goal, String name) {\n",
    "       System.out.println(String.format(\"Hallo %s,\\nDu hast die %d gewählt.\\nIch habe an die %d gedacht.\\nViel Glück beim nächsten Mal!\", name, guess, goal)); \n",
    "    }\n",
    "    \n",
    "    \n",
    "    public static void main(String[] args) {\n",
    "        play();\n",
    "    }\n",
    "    \n",
    "}"
   ]
  },
  {
   "cell_type": "code",
   "execution_count": 59,
   "metadata": {
    "deletable": false
   },
   "outputs": [
    {
     "name": "stdout",
     "output_type": "stream",
     "text": [
      "Geben Sie eine Nummer ein: \n",
      "blkfjg\n",
      "Geben Sie eine Nummer ein: \n",
      "lfkgdj\n",
      "Geben Sie eine Nummer ein: \n",
      "lfdkgj\n",
      "Geben Sie eine Nummer ein: \n",
      "5\n",
      "Geben Sie Ihren Namen ein: \n",
      "fabaian\n",
      "Hallo fabaian,\n",
      "Du hast die 5 gewählt.\n",
      "Ich habe an die 2 gedacht.\n",
      "Viel Glück beim nächsten Mal!\n"
     ]
    }
   ],
   "source": [
    "GuessTheNumber.main(new String[0]);"
   ]
  }
 ],
 "metadata": {
  "celltoolbar": "Edit Metadata",
  "exercise_series": "gdp",
  "kernelspec": {
   "display_name": "Java",
   "language": "java",
   "name": "java"
  },
  "language_info": {
   "codemirror_mode": "java",
   "file_extension": ".jshell",
   "mimetype": "text/x-java-source",
   "name": "Java",
   "pygments_lexer": "java",
   "version": "17.0.5+8"
  },
  "notebook_id": 103,
  "toc": {
   "base_numbering": 1,
   "nav_menu": {},
   "number_sections": false,
   "sideBar": false,
   "skip_h1_title": false,
   "title_cell": "Table of Contents",
   "title_sidebar": "Contents",
   "toc_cell": false,
   "toc_position": {},
   "toc_section_display": false,
   "toc_window_display": false
  }
 },
 "nbformat": 4,
 "nbformat_minor": 2
}
