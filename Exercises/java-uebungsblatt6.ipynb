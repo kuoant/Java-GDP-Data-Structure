{
 "cells": [
  {
   "cell_type": "markdown",
   "id": "bff0762c",
   "metadata": {
    "deletable": false
   },
   "source": [
    "# Grundlagen der Programmierung  <br/> Übungsblatt 06 - Arrays\n",
    "#### Marcel Lüthi, Andreas Morel-Forster <br/> Departement Mathematik und Informatik, Universität Basel"
   ]
  },
  {
   "cell_type": "markdown",
   "id": "537e49d2",
   "metadata": {
    "deletable": false
   },
   "source": [
    "### Aufgabe 1: Erzeugen eines Arrays [2 autom. Tests]\n",
    "\n",
    "Implementieren Sie die Methode ```createMultiples``` welche zwei Parameter entgegennimmt.\n",
    "Die Methode soll eine `int`-Array einer gegebenen Länge mit den Vielfachen einer Zahl füllen und zurück geben.\n",
    "Der erste Parameter ist eine Zahl, von welcher die Vielfachen berechnet werden sollen.\n",
    "Der zweite Parameter ist eine Zahl, welche die Anzahl Elemente angiebt.\n",
    "Die erste Zahl im Arrays soll die Zahl selbst sein."
   ]
  },
  {
   "cell_type": "code",
   "execution_count": 1,
   "id": "c0ab5db5",
   "metadata": {
    "deletable": false,
    "exercise_id": 1
   },
   "outputs": [],
   "source": [
    "public class Creator {\n",
    "    // Ihre Lösung kommt hier hin\n",
    "    public static int[] createMultiples(int number, int length) {\n",
    "        int[] array = new int[length];\n",
    "        \n",
    "        for (int i = 0; i < array.length; i++) {\n",
    "            array[i] = (i + 1) * number;\n",
    "        }\n",
    "        \n",
    "        return array;\n",
    "    }\n",
    "    \n",
    "    public static void main(String[] args) {\n",
    "        int[] arr = createMultiples(7,5);\n",
    "        System.out.println(java.util.Arrays.toString(arr));\n",
    "    }\n",
    "}"
   ]
  },
  {
   "cell_type": "code",
   "execution_count": 2,
   "id": "6a0a3be6",
   "metadata": {
    "deletable": false
   },
   "outputs": [
    {
     "name": "stdout",
     "output_type": "stream",
     "text": [
      "[7, 14, 21, 28, 35]\n"
     ]
    }
   ],
   "source": [
    "Creator.main(new String[0]);"
   ]
  },
  {
   "cell_type": "markdown",
   "id": "b52c2f1a",
   "metadata": {
    "deletable": false
   },
   "source": [
    "### Aufgabe 2: Summe aller Ziffern [2 autom. Tests]\n",
    "\n",
    "Schreiben Sie eine Methode `sumNumbers` welche eine Text übergeben bekommt. Schauen Sie sich jedes Zeichen im Text an, und addieren Sie alle Ziffern die Sie so finden. Geben Sie die Summe an den Aufrufer zurück. Verwenden Sie die Methode `charAt` um auf die Zeichen im Text zuzugreifen.\n",
    "\n",
    "Sie können folgende zwei Methoden nutzen:\n",
    "- `Character.isDigit` können Sie ein Zeichen übergeben, und bekommen `true` zurück, wenn das Zeichen eine Ziffer ist.\n",
    "- `Character.getNumericValue` könnne Sie ein Zeichen übergeben, und bekommen dann die entsprechende Zahl als `int` zurück."
   ]
  },
  {
   "cell_type": "code",
   "execution_count": 7,
   "id": "8ede1b67",
   "metadata": {
    "deletable": false,
    "exercise_id": 2
   },
   "outputs": [],
   "source": [
    "public class TextAdder {\n",
    "    // Ihre Lösung kommt hier hin\n",
    "    public static int sumNumbers(String text) {\n",
    "        \n",
    "        int sum = 0;\n",
    "        \n",
    "        for (int i = 0; i < text.length(); i++) {\n",
    "            \n",
    "            if (Character.isDigit(text.charAt(i))) {\n",
    "                sum += Character.getNumericValue(text.charAt(i));\n",
    "            }\n",
    "        }\n",
    "        \n",
    "        return sum;\n",
    "    }\n",
    "    \n",
    "    public static void main(String[] args) {\n",
    "        System.out.println(sumNumbers(\"aa1d23c4tz5io0\"));\n",
    "    }\n",
    "}"
   ]
  },
  {
   "cell_type": "code",
   "execution_count": 8,
   "id": "4f855351",
   "metadata": {
    "deletable": false
   },
   "outputs": [
    {
     "name": "stdout",
     "output_type": "stream",
     "text": [
      "15\n"
     ]
    }
   ],
   "source": [
    "TextAdder.main(new String[0]);"
   ]
  },
  {
   "cell_type": "markdown",
   "id": "4298c701",
   "metadata": {
    "deletable": false
   },
   "source": [
    "### Aufgabe 3: Verkehrt anhängen [2 autom. Tests]\n",
    "\n",
    "Schreiben Sie eine Methode `cat`, welche als Argument zwei `double`-Arrays als Parameter entgegen nimmt. Die beiden Arrays sollen zusammen gehängt zurück gegeben werden, wobei das zweite Array in umgekehrter Reihenfolge an das erste angehängt werden soll."
   ]
  },
  {
   "cell_type": "code",
   "execution_count": 12,
   "id": "94736624",
   "metadata": {
    "deletable": false,
    "exercise_id": 3
   },
   "outputs": [],
   "source": [
    "public class ReverseConcat {\n",
    "    // Ihre Lösung kommt hier hin\n",
    "    public static double[] cat(double[] arr1, double[] arr2) {\n",
    "        \n",
    "        double[] result = new double[arr1.length + arr2.length];\n",
    "        int counter = 0;\n",
    "        \n",
    "        for (int i = 0; i < arr1.length; i++) {\n",
    "            result[i] = arr1[i];\n",
    "            counter++;\n",
    "        }\n",
    "        \n",
    "        for (int i = arr2.length - 1; i >= 0; i--) {\n",
    "            result[counter] = arr2[i];\n",
    "            counter++;\n",
    "        }\n",
    "        \n",
    "        return result;\n",
    "    }\n",
    "\n",
    "    public static void main(String[] args) {\n",
    "        double[] arr1 = { 1.0, 2.0, 3.0};\n",
    "        double[] arr2 = { 9.0, 8.0, 7.0, 6.0, 5.0, 4.0};\n",
    "        System.out.println(java.util.Arrays.toString(cat(arr1, arr2)));\n",
    "    }\n",
    "}"
   ]
  },
  {
   "cell_type": "code",
   "execution_count": 13,
   "id": "1c3a2b0d",
   "metadata": {
    "deletable": false
   },
   "outputs": [
    {
     "name": "stdout",
     "output_type": "stream",
     "text": [
      "[1.0, 2.0, 3.0, 4.0, 5.0, 6.0, 7.0, 8.0, 9.0]\n"
     ]
    }
   ],
   "source": [
    "ReverseConcat.main(new String[0]);"
   ]
  },
  {
   "cell_type": "markdown",
   "id": "e5992d78",
   "metadata": {
    "deletable": false
   },
   "source": [
    "### Aufgabe 4: Fitze Fatze streichen [2 autom. Tests]\n",
    "\n",
    "Schreiben Sie eine Methode `eliminate` welche aus einem `int`-Array alle Elemente entfernt, welche durch 3 oder durch 5, aber nicht durch beide teilbar sind. Die verbleibenden Elemente sollen in der selben Reihenfolge in einem neuen Array zurück gegeben werden. Dabei soll das zurück gegebene Array nur die benötigte Länge haben."
   ]
  },
  {
   "cell_type": "code",
   "execution_count": 24,
   "id": "98240133",
   "metadata": {
    "deletable": false,
    "exercise_id": 4
   },
   "outputs": [],
   "source": [
    "public class FitzeFatzeArray {\n",
    "    // Ihre Lösung kommt hier hin\n",
    "    public static int[] eliminate(int[] array) {\n",
    "        \n",
    "        int[] mutant = new int[array.length];\n",
    "        int counter = 0;\n",
    "        \n",
    "        for (int i = 0; i < array.length; i++) {\n",
    "            if (array[i] % 3 == 0 && array[i] % 5 == 0) {\n",
    "                mutant[counter] = array[i];\n",
    "                counter++;\n",
    "            } else if (array[i] % 3 == 0) {\n",
    "                // do nothing\n",
    "            } else if (array[i] % 5 == 0) {\n",
    "                // do nothing\n",
    "            } else {\n",
    "                mutant[counter] = array[i];\n",
    "                counter++;\n",
    "            }\n",
    "        }\n",
    "        \n",
    "        int[] result = new int[counter];\n",
    "        counter = 0;\n",
    "        \n",
    "        for (int i = 0; i < mutant.length; i++) {\n",
    "            if (mutant[i] == 0) {\n",
    "                // do nothing;\n",
    "            } else {\n",
    "                result[counter] = mutant[i];\n",
    "                counter++;\n",
    "            }\n",
    "        }\n",
    "        \n",
    "        return result;\n",
    "        \n",
    "    }\n",
    "    \n",
    "    public static void main(String[] args) {\n",
    "        System.out.println(java.util.Arrays.toString(\n",
    "            eliminate(new int[]{3, 5, 6, 7, 2, 1, 15, 24, 25, 30, 33})\n",
    "        ));\n",
    "    }\n",
    "}"
   ]
  },
  {
   "cell_type": "code",
   "execution_count": 25,
   "id": "09bd409c",
   "metadata": {
    "deletable": false
   },
   "outputs": [
    {
     "name": "stdout",
     "output_type": "stream",
     "text": [
      "[7, 2, 1, 15, 30]\n"
     ]
    }
   ],
   "source": [
    "FitzeFatzeArray.main(new String[0]);"
   ]
  },
  {
   "cell_type": "markdown",
   "id": "47c98ca1",
   "metadata": {
    "deletable": false
   },
   "source": [
    "### Aufgabe 5: Suchen im Array [4 autom. Tests]\n",
    "\n",
    "Schreiben Sie eine Methode `findFirst` welche ein Element in einem Array sucht. Das `char`-Array wird als erster, das zu suchende Zeichen als zweiter Parameter übergeben. Geben Sie den Index des ersten Vorkommens des gesuchten Zeichen im Array zurück, oder -1 wenn das Zeichen nicht vorkommt."
   ]
  },
  {
   "cell_type": "code",
   "execution_count": 28,
   "id": "5e0dd31e",
   "metadata": {
    "deletable": false,
    "exercise_id": 5
   },
   "outputs": [],
   "source": [
    "public class FindInArray {\n",
    "    \n",
    "    public static int findFirst(char[] array, char c) {\n",
    "        \n",
    "        int result = -1;\n",
    "        \n",
    "        for (int i = 0; i < array.length; i++) {\n",
    "            if (array[i] == c) {\n",
    "                result = i;\n",
    "                return result;\n",
    "            }\n",
    "        }\n",
    "        return result;\n",
    "    }\n",
    "    \n",
    "    public static void main(String[] args) {\n",
    "        System.out.println(findFirst(\"UniverstitätBasel\".toCharArray(), 'e'));\n",
    "        System.out.println(findFirst(\"UniverstitätBasel\".toCharArray(), 'i'));\n",
    "        System.out.println(findFirst(\"UniverstitätBasel\".toCharArray(), 'y'));\n",
    "    }\n",
    "}"
   ]
  },
  {
   "cell_type": "code",
   "execution_count": 29,
   "id": "3c94a576",
   "metadata": {
    "deletable": false
   },
   "outputs": [
    {
     "name": "stdout",
     "output_type": "stream",
     "text": [
      "4\n",
      "2\n",
      "-1\n"
     ]
    }
   ],
   "source": [
    "FindInArray.main(new String[0]);"
   ]
  },
  {
   "cell_type": "markdown",
   "id": "b52800eb",
   "metadata": {
    "deletable": false
   },
   "source": [
    "### Aufgabe 6: Flatten [5 autom. Tests]\n",
    "\n",
    "Schreiben Sie eine Methode `flatten` welche ein 2d-Array in ein 1d-Array umwandelt und zurück gibt. Dabei sollen die Arrays der Reihe nach hintereinander angehängt werden. Die Arrays beinhalten ganze Zahlen."
   ]
  },
  {
   "cell_type": "code",
   "execution_count": 34,
   "id": "dd36a18e",
   "metadata": {
    "deletable": false,
    "exercise_id": 6
   },
   "outputs": [],
   "source": [
    "public class Flatten {\n",
    "    // Ihre Lösung kommt hier hin\n",
    "    public static int[] flatten(int[][] array) {\n",
    "        \n",
    "        int counter = 0;\n",
    "        \n",
    "        for (int i = 0; i < array.length; i++) {\n",
    "            for (int j = 0; j < array[i].length; j++) {\n",
    "                counter++;\n",
    "            }\n",
    "        }\n",
    "        \n",
    "        int[] result = new int[counter];\n",
    "        counter = 0;\n",
    "        \n",
    "        for (int i = 0; i < array.length; i++) {\n",
    "            for (int j = 0; j < array[i].length; j++) {\n",
    "                result[counter] = array[i][j];\n",
    "                counter++;\n",
    "            }\n",
    "        }\n",
    "        \n",
    "        \n",
    "        return result;\n",
    "    }\n",
    "    \n",
    "    public static void main(String[] args) {\n",
    "        System.out.println(java.util.Arrays.toString(\n",
    "            flatten(new int[][]{\n",
    "                {1,2},\n",
    "                {},\n",
    "                {3,4,5,6},\n",
    "                {7},\n",
    "                {8,9,10}\n",
    "            })\n",
    "        ));\n",
    "    }\n",
    "}"
   ]
  },
  {
   "cell_type": "code",
   "execution_count": 35,
   "id": "903e83d3",
   "metadata": {
    "deletable": false
   },
   "outputs": [
    {
     "name": "stdout",
     "output_type": "stream",
     "text": [
      "[1, 2, 3, 4, 5, 6, 7, 8, 9, 10]\n"
     ]
    }
   ],
   "source": [
    "Flatten.main(new String[0]);"
   ]
  },
  {
   "cell_type": "markdown",
   "id": "8e649f7f",
   "metadata": {
    "deletable": false
   },
   "source": [
    "### Aufgabe 7: Nachbarn im Game-of-Life [6 autom. Tests]\n",
    "\n",
    "Interessierte können sich diese [Seite](https://playgameoflife.com/) zum **Game-of-Life** anschauen. Dort finden Sie einerseits das Spiel zum ausprobieren, aber auch die Regeln und kurze Videos dazu.\n",
    "\n",
    "In dieser Aufgabe implementieren wir nur zwei Methoden.\n",
    "- Die erste Aufgabe ist es die Methode `access` zu implementieren. Die Methode bekommt als Parameter ein 2d `boolean` Array so wie die Zeile und die Spalte auf die zugegriffen werden soll. Ist ein Zugriff ausserhalb des Arrays gefragt, soll jeweils auf der anderen Seite des Arrays zugegriffen werden, es soll also ein zyklischer Zugriff realisiert werden.\n",
    "- Die zweite Aufgabe ist es die Methode `countNeighbours` zu implementieren. Verwenden Sie hierzu die Methode `access`. Es soll für eine Zelle, definiert durch Zeile und Spalte, in einem 2d `boolean` Array die Anzahl lebenden (`true`) Nachbarn gezählt werden."
   ]
  },
  {
   "cell_type": "code",
   "execution_count": 5,
   "id": "a8e243c9",
   "metadata": {
    "deletable": false,
    "exercise_id": 7
   },
   "outputs": [],
   "source": [
    "public class GameOfLife {\n",
    "    // Ihre Lösung kommt hier hin\n",
    "    \n",
    "    public static boolean access(boolean[][] array, int row, int col) {\n",
    "        if (row < 0 || row >= array.length) {\n",
    "            row = (row + array.length) % array.length;\n",
    "        }\n",
    "        \n",
    "        if (col < 0 || col >= array.length) {\n",
    "            col = (col + array.length) % array.length;\n",
    "        }\n",
    "        \n",
    "        return array[row][col];\n",
    "    }\n",
    "    \n",
    "    public static int countNeighbours(boolean[][] array, int row, int col) {\n",
    "        \n",
    "        int localRow = row - 1;\n",
    "        int localCol = col - 1;\n",
    "        int counter = 0;\n",
    "        \n",
    "        for (int i = localRow; i < localRow + 3; i++) {\n",
    "            for (int j = localCol; j < localCol + 3; j++) {\n",
    "                if (access(array, i, j)) {\n",
    "                    counter++;\n",
    "                }\n",
    "            }\n",
    "        }\n",
    "        \n",
    "        if (access(array,row,col)) {\n",
    "            counter--;\n",
    "        }\n",
    "        \n",
    "        return counter;\n",
    "    }\n",
    "    \n",
    "\n",
    "    public static void main(String[] args) {\n",
    "        boolean[][] field = {\n",
    "            {false, false,  true, false},\n",
    "            { true, false,  true, false},\n",
    "            {false,  true,  true, false},\n",
    "            {false, true, false, false}\n",
    "        };\n",
    "        System.out.println(access(field,-2,-2)); // should return `true`\n",
    "        System.out.println(countNeighbours(field,3,2)); // should return 4\n",
    "    }\n",
    "}"
   ]
  },
  {
   "cell_type": "code",
   "execution_count": 6,
   "id": "136b0824",
   "metadata": {
    "deletable": false
   },
   "outputs": [
    {
     "name": "stdout",
     "output_type": "stream",
     "text": [
      "true\n",
      "4\n"
     ]
    }
   ],
   "source": [
    "GameOfLife.main(new String[0]);"
   ]
  },
  {
   "cell_type": "markdown",
   "id": "a3ce573a",
   "metadata": {
    "deletable": false
   },
   "source": [
    "### Aufgabe 8: Jagged Arrays [5 autom. Tests]\n",
    "Schreiben Sie eine Methode `create` welche ein `int`-Array übergeben bekommt und ein 2d `int` Array erstellt und zurück gibt. Das Array, welches als Parameter übergeben wird, gibt die Längen der Arrays im 2d Array an. Initialisieren Sie die Elemente jedes Arrays jeweils mit dem Wert des Index für den Zugriff."
   ]
  },
  {
   "cell_type": "code",
   "execution_count": 52,
   "id": "901c319b",
   "metadata": {
    "deletable": false,
    "exercise_id": 8
   },
   "outputs": [],
   "source": [
    "public class JaggedArrays {\n",
    "    // Ihre Lösung kommt hier hin\n",
    "    public static int[][] create(int[] array) {\n",
    "        int[][] result = new int[array.length][];\n",
    "        \n",
    "        for (int i = 0; i < result.length; i++) {\n",
    "            result[i] = new int[array[i]];\n",
    "            for (int j = 0; j < result[i].length; j++) {\n",
    "                result[i][j] = j;\n",
    "            }\n",
    "        }\n",
    "        return result;\n",
    "    }\n",
    "    \n",
    "    public static void print(int[][] array) {\n",
    "        for (int i = 0; i < array.length; i++) {\n",
    "            for (int j = 0; j < array[i].length; j++) {\n",
    "                System.out.print(array[i][j] + \" \");\n",
    "            }\n",
    "            System.out.println(\"\");\n",
    "        }\n",
    "    }\n",
    "    \n",
    "    public static void main(String[] args) {\n",
    "        int[][] arr = create(new int[]{5,1,0,7,8});\n",
    "        for(int[] row : arr) {\n",
    "            java.util.Arrays.toString(row);\n",
    "        }\n",
    "        print(arr);\n",
    "    }\n",
    "}"
   ]
  },
  {
   "cell_type": "code",
   "execution_count": 53,
   "id": "61db8f56",
   "metadata": {
    "deletable": false
   },
   "outputs": [
    {
     "name": "stdout",
     "output_type": "stream",
     "text": [
      "0 1 2 3 4 \n",
      "0 \n",
      "\n",
      "0 1 2 3 4 5 6 \n",
      "0 1 2 3 4 5 6 7 \n"
     ]
    }
   ],
   "source": [
    "JaggedArrays.main(new String[0]);"
   ]
  }
 ],
 "metadata": {
  "exercise_series": "gdp",
  "kernelspec": {
   "display_name": "Java",
   "language": "java",
   "name": "java"
  },
  "language_info": {
   "codemirror_mode": "java",
   "file_extension": ".jshell",
   "mimetype": "text/x-java-source",
   "name": "Java",
   "pygments_lexer": "java",
   "version": "17.0.5+8"
  },
  "notebook_id": 106
 },
 "nbformat": 4,
 "nbformat_minor": 5
}
