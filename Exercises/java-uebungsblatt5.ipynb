{
 "cells": [
  {
   "cell_type": "markdown",
   "id": "bff0762c",
   "metadata": {
    "deletable": false
   },
   "source": [
    "# Grundlagen der Programmierung  <br/> Übungsblatt 05 - Schleifen\n",
    "#### Marcel Lüthi, Andreas Morel-Forster <br/> Departement Mathematik und Informatik, Universität Basel"
   ]
  },
  {
   "cell_type": "markdown",
   "id": "537e49d2",
   "metadata": {
    "deletable": false
   },
   "source": [
    "### Aufgabe 1: Mehrfache Ausgabe [2 autom. Tests]\n",
    "\n",
    "Schreiben Sie eine Methode ```printNTimes```, welche als erstes Argument einen Text und als zweites Argument eine positive Zahl ```n```entgegennimmt. Die Methode soll den übergebenen Text ```n``` mal ausgeben, wobei jede Ausgabe auf eine neue Zeile kommt. "
   ]
  },
  {
   "cell_type": "code",
   "execution_count": 3,
   "id": "c0ab5db5",
   "metadata": {
    "deletable": false,
    "exercise_id": 1
   },
   "outputs": [],
   "source": [
    "public class MultiPrinter {\n",
    "    // Ihre Lösung kommt hier hin\n",
    "    public static void printNTimes(String text, int n) {\n",
    "        for (int i = 0; i < n; i++) {\n",
    "            System.out.println(text);\n",
    "        }\n",
    "    }\n",
    "    \n",
    "    public static void main(String[] args) {\n",
    "        printNTimes(\"ja\", 5);\n",
    "    }\n",
    "}"
   ]
  },
  {
   "cell_type": "code",
   "execution_count": 4,
   "id": "6a0a3be6",
   "metadata": {
    "deletable": false
   },
   "outputs": [
    {
     "name": "stdout",
     "output_type": "stream",
     "text": [
      "ja\n",
      "ja\n",
      "ja\n",
      "ja\n",
      "ja\n"
     ]
    }
   ],
   "source": [
    "MultiPrinter.main(new String[0]);"
   ]
  },
  {
   "cell_type": "markdown",
   "id": "b52c2f1a",
   "metadata": {
    "deletable": false
   },
   "source": [
    "### Aufgabe 2: Summe der Quadratzahlen [1 autom. Test]\n",
    "\n",
    "Schreiben Sie eine Methode ```sum```, welche als Argumente eine Zahl ```from``` und eine Zahl ```to``` entgegennimmt, und dann die Summe der Quadrate aller Zahlen im Interval ```[from, to]``` (inklusive ```from``` und ```to```) berechnet und das Resultat zurückgibt. "
   ]
  },
  {
   "cell_type": "code",
   "execution_count": 1,
   "id": "8ede1b67",
   "metadata": {
    "deletable": false,
    "exercise_id": 2
   },
   "outputs": [],
   "source": [
    "public class SumOfSquare {\n",
    "    // Ihre Lösung kommt hier hin\n",
    "    public static double sum(int from, int to) {\n",
    "        \n",
    "        int current = from;\n",
    "        double sum = 0;\n",
    "        \n",
    "        while (current <= to) {\n",
    "            sum += Math.pow(current,2);\n",
    "            current++;\n",
    "        }\n",
    "        return sum;\n",
    "    }\n",
    "    \n",
    "    \n",
    "    public static void main(String[] args) {\n",
    "        System.out.println(sum(4,6));\n",
    "    }\n",
    "}"
   ]
  },
  {
   "cell_type": "code",
   "execution_count": 2,
   "id": "4f855351",
   "metadata": {
    "deletable": false
   },
   "outputs": [
    {
     "name": "stdout",
     "output_type": "stream",
     "text": [
      "77.0\n"
     ]
    }
   ],
   "source": [
    "SumOfSquare.main(new String[0]);"
   ]
  },
  {
   "cell_type": "markdown",
   "id": "4298c701",
   "metadata": {
    "deletable": false
   },
   "source": [
    "### Aufgabe 3: Summiere Fitze Fatze [1 autom. Test]\n",
    "\n",
    "Schreiben Sie eine Methode ```sum```, welche als Argument eine Zahl ```n``` entgegennimmt. Es soll dann die Summe aller Zahlen von 0 bis und mit ```n``` berechnet werden, welche durch 3 oder 5 teilbar sind, aber nicht durch beide teilbar."
   ]
  },
  {
   "cell_type": "code",
   "execution_count": 4,
   "id": "94736624",
   "metadata": {
    "deletable": false,
    "exercise_id": 3
   },
   "outputs": [],
   "source": [
    "public class SumOfFitzeFatze {\n",
    "    // Ihre Lösung kommt hier hin\n",
    "    public static int sum(int n) {\n",
    "        \n",
    "        int sum = 0;\n",
    "        \n",
    "        for (int i = 0; i <= n; i++) {\n",
    "            \n",
    "            if (i % 3 == 0 && i % 5 == 0) {\n",
    "                // do nothing\n",
    "            } else if (i % 3 == 0) {\n",
    "                sum += i;\n",
    "            } else if (i % 5 == 0) {\n",
    "                sum += i;\n",
    "            } else {\n",
    "                // do nothing\n",
    "            }\n",
    "        }\n",
    "        return sum;\n",
    "    }\n",
    "    \n",
    "    public static void main(String[] args) {\n",
    "        System.out.println(sum(15));\n",
    "    }\n",
    "}\n"
   ]
  },
  {
   "cell_type": "code",
   "execution_count": 5,
   "id": "72b4c47a",
   "metadata": {},
   "outputs": [
    {
     "name": "stdout",
     "output_type": "stream",
     "text": [
      "45\n"
     ]
    }
   ],
   "source": [
    "SumOfFitzeFatze.main(new String[0]);"
   ]
  },
  {
   "cell_type": "markdown",
   "id": "e5992d78",
   "metadata": {
    "deletable": false
   },
   "source": [
    "### Aufgabe 4: Benötigte Summanden [1 autom. Test]\n",
    "\n",
    "Schreiben Sie eine Methode ```count```, welche als Argumente eine Zahl ```start``` und eine Zahl ```total``` entgegennimmt. Es soll dann gezählt werden, wieviele Zahlen aufsteigend von `start` summiert werden müssen, so dass die Summe grösser oder gleich `total` ist. Die Anzahl Summanden soll dann zurück gegeben werden."
   ]
  },
  {
   "cell_type": "code",
   "execution_count": 7,
   "id": "98240133",
   "metadata": {
    "deletable": false,
    "exercise_id": 4
   },
   "outputs": [],
   "source": [
    "public class FindNeededNumbers {\n",
    "    // Ihre Lösung kommt hier hin\n",
    "    public static int count(int start, int total) {\n",
    "        \n",
    "        int counter = 0;\n",
    "        int sum = 0;\n",
    "        \n",
    "        for (int i = start; sum < total; i++) {\n",
    "            sum += i;\n",
    "            counter++;\n",
    "        }\n",
    "       return counter; \n",
    "    }\n",
    "    \n",
    "    public static void main(String[] args) {\n",
    "        System.out.println(count(1,9));\n",
    "    }\n",
    "}"
   ]
  },
  {
   "cell_type": "code",
   "execution_count": 8,
   "id": "975dc694",
   "metadata": {},
   "outputs": [
    {
     "name": "stdout",
     "output_type": "stream",
     "text": [
      "4\n"
     ]
    }
   ],
   "source": [
    "\n",
    "FindNeededNumbers.main(new String[0]);"
   ]
  },
  {
   "cell_type": "markdown",
   "id": "47c98ca1",
   "metadata": {
    "deletable": false
   },
   "source": [
    "### Aufgabe 5: Primzahlen [2 autom. Tests]\n",
    "\n",
    "Schreiben Sie eine Methode ```isPrime```, welche überprüft und zurück gibt ob die übergebene Zahl eine Primzahl ist oder nicht. Eine Zahl ist eine Primzahl, wenn die Zahl nur durch 1 und sich selbst ohne Rest teilbar ist. Überprüfen Sie dies mit Hilfe einer Schleife. "
   ]
  },
  {
   "cell_type": "code",
   "execution_count": 9,
   "id": "5e0dd31e",
   "metadata": {
    "deletable": false,
    "exercise_id": 5
   },
   "outputs": [],
   "source": [
    "public class PrimeNumber {\n",
    "    // Ihre Lösung kommt hier hin\n",
    "    \n",
    "    public static boolean isPrime(int n) {\n",
    "        \n",
    "        if (n == 1) {\n",
    "            return false;\n",
    "        }\n",
    "        \n",
    "        if (n == 2) {\n",
    "            return true;\n",
    "        }\n",
    "        \n",
    "        for (int i = 2; i < n; i++) {\n",
    "            if (n % i == 0) {\n",
    "                return false;\n",
    "            }\n",
    "        }\n",
    "        return true;\n",
    "        \n",
    "    }\n",
    "    \n",
    "    public static void main(String[] args) {\n",
    "        System.out.println(isPrime(7));\n",
    "    }\n",
    "}\n"
   ]
  },
  {
   "cell_type": "code",
   "execution_count": 10,
   "id": "03c8eb14",
   "metadata": {},
   "outputs": [
    {
     "name": "stdout",
     "output_type": "stream",
     "text": [
      "true\n"
     ]
    }
   ],
   "source": [
    "PrimeNumber.main(new String[0]);"
   ]
  },
  {
   "cell_type": "markdown",
   "id": "b52800eb",
   "metadata": {
    "deletable": false
   },
   "source": [
    "### Aufgabe 6: Schachbrett [2 autom. Tests]\n",
    "\n",
    "Schreiben Sie eine Methode `print`, welche ein Schachbrett entsprechend der übergebenen Länge ausgibt. Dabei soll für Schwarz `#` ausgegeben werden und für weiss `_`. Oben links soll es immer mit Schwarz beginnen.\n",
    "\n",
    "Beispiel für die Länge 3\n",
    "```java\n",
    "#_#\n",
    "_#_\n",
    "#_#\n",
    "```"
   ]
  },
  {
   "cell_type": "code",
   "execution_count": 12,
   "id": "dd36a18e",
   "metadata": {
    "deletable": false,
    "exercise_id": 6
   },
   "outputs": [],
   "source": [
    "public class Chessboard {\n",
    "    // Ihre Lösung kommt hier hin\n",
    "    \n",
    "    public static void print(int n) {\n",
    "        \n",
    "        for (int i = 0; i < n; i++) {\n",
    "            for (int j = 0; j < n; j++) {\n",
    "                \n",
    "                if (i % 2 == 0) {\n",
    "                    if (j % 2 == 0) {\n",
    "                        System.out.print(\"#\");\n",
    "                    } else {\n",
    "                        System.out.print(\"_\");\n",
    "                    }\n",
    "                } else {\n",
    "                    if (j % 2 == 0) {\n",
    "                        System.out.print(\"_\");\n",
    "                    } else {\n",
    "                        System.out.print(\"#\");\n",
    "                    }\n",
    "                }\n",
    "            }\n",
    "            System.out.println(\"\");\n",
    "        }\n",
    "    }\n",
    "    \n",
    "    public static void main(String[] args) {\n",
    "        print(10);\n",
    "    }\n",
    "}"
   ]
  },
  {
   "cell_type": "code",
   "execution_count": 13,
   "id": "78303d95",
   "metadata": {},
   "outputs": [
    {
     "name": "stdout",
     "output_type": "stream",
     "text": [
      "#_#_#_#_#_\n",
      "_#_#_#_#_#\n",
      "#_#_#_#_#_\n",
      "_#_#_#_#_#\n",
      "#_#_#_#_#_\n",
      "_#_#_#_#_#\n",
      "#_#_#_#_#_\n",
      "_#_#_#_#_#\n",
      "#_#_#_#_#_\n",
      "_#_#_#_#_#\n"
     ]
    }
   ],
   "source": [
    "\n",
    "Chessboard.main(new String[0]);"
   ]
  },
  {
   "cell_type": "markdown",
   "id": "8e649f7f",
   "metadata": {
    "deletable": false
   },
   "source": [
    "### Aufgabe 7: Ein-Mal-Eins [2 autom. Tests]\n",
    "\n",
    "Schreiben Sie eine Methode ```print```, welche als Argument eine Zahl ```n``` entgegennimmt. Es sollen dann für die ersten `n` Zahlen die ersten `n` Elemente der Multiplikationstabelle ausgegeben werden. Geben Sie nach jeder Zahl ein Leerzeichen aus, auch am Ende der Zeile.\n",
    "\n",
    "Beispiel mit `n = 4`\n",
    "```java\n",
    "1 2 3 4 \n",
    "2 4 6 8 \n",
    "3 6 9 12 \n",
    "4 8 12 16 \n",
    "```"
   ]
  },
  {
   "cell_type": "code",
   "execution_count": 15,
   "id": "a8e243c9",
   "metadata": {
    "deletable": false,
    "exercise_id": 7
   },
   "outputs": [],
   "source": [
    "public class MultiplicationTable {\n",
    "    // Ihre Lösung kommt hier hin\n",
    "    public static void print(int n) {\n",
    "        \n",
    "        for (int i = 1; i <= n; i++) {\n",
    "            for (int j = 1; j <= n; j++) {\n",
    "                System.out.print(i * j + \" \");\n",
    "            }\n",
    "            System.out.println(\"\");\n",
    "        }\n",
    "    }\n",
    "    \n",
    "    public static void main(String[] args) {\n",
    "        print(4);\n",
    "    }\n",
    "}"
   ]
  },
  {
   "cell_type": "code",
   "execution_count": 16,
   "id": "0e1293a1",
   "metadata": {},
   "outputs": [
    {
     "name": "stdout",
     "output_type": "stream",
     "text": [
      "1 2 3 4 \n",
      "2 4 6 8 \n",
      "3 6 9 12 \n",
      "4 8 12 16 \n"
     ]
    }
   ],
   "source": [
    "\n",
    "MultiplicationTable.main(new String[0]);"
   ]
  },
  {
   "cell_type": "markdown",
   "id": "a3ce573a",
   "metadata": {
    "deletable": false
   },
   "source": [
    "### Aufgabe 8: Vollkommene Zahlen [4 autom. Tests]\n",
    "In dieser Aufgabe geht es um vollkommene Zahlen. Eine Zahl heisst vollkommen, falls die Summe der positiven Teiler gleich der Zahl selbst ist.\n",
    "\n",
    "1. Schreiben Sie eine Methode ```isDivisor```, die zwei Zahlen ```a``` und ```b``` entgegennimmt und zurückgibt, ob ```b``` ein Teiler von ```a``` ist, also die Division ohne Rest möglich ist.\n",
    "2. Schreiben Sie eine Methode ```sumOfDivisors``` welche die Summe aller positiven Teiler, ohne die Zahl selbst, einer übergebenen positiven Zahl zurückgibt. Diese soll die obige Funktion ```isDivisor``` nutzen. \n",
    "3. Schreiben Sie eine Prozedur ```isPerfectNumber``` zurück gibt, ob eine Zahl, die als Argument übergeben wird, eine vollkommene Zahl ist. Eine Zahl heisst vollkommen, falls die Summe der positiven Teiler gleich der Zahl selbst ist.\n",
    "4. Schreiben Sie eine Prozedur ```printPerfectNumbers``` welche alle Zahlen zwischen 1 und einer übergebenen Zahl ausgibt, die vollkommene Zahlen sind. Dabei soll jede Zahl auf eine eigene Zeile geschrieben werden.\n",
    "\n",
    "\n",
    "*Hinweis:  Testen Sie jede Funktion separat und stellen sie sicher, dass diese Funktioniert, bevor sie diese in der nächsten Funktion nutzen.*"
   ]
  },
  {
   "cell_type": "code",
   "execution_count": 17,
   "id": "901c319b",
   "metadata": {
    "deletable": false,
    "exercise_id": 8
   },
   "outputs": [],
   "source": [
    "public class PerfectNumbers {\n",
    "    // Ihre Lösung kommt hier hin\n",
    "    public static boolean isDivisor(int a, int b) {\n",
    "        return a % b == 0;\n",
    "    }\n",
    "    \n",
    "    public static int sumOfDivisors(int n) {\n",
    "        \n",
    "        int sum = 0;\n",
    "        \n",
    "        for (int i = 1; i < n; i++) {\n",
    "            if (isDivisor(n, i)) {\n",
    "                sum += i;\n",
    "            }\n",
    "        }\n",
    "        return sum;\n",
    "    }\n",
    "    \n",
    "    public static boolean isPerfectNumber(int n) {\n",
    "        return n == sumOfDivisors(n);\n",
    "    }\n",
    "    \n",
    "    public static void printPerfectNumbers(int n) {\n",
    "        \n",
    "        for (int i = 1; i <= n; i++) {\n",
    "            if (isPerfectNumber(i)) {\n",
    "                System.out.println(i);\n",
    "            }\n",
    "        }\n",
    "    }\n",
    "    \n",
    "    public static void main(String[] args) {\n",
    "        printPerfectNumbers(1000);\n",
    "    }\n",
    "}"
   ]
  },
  {
   "cell_type": "code",
   "execution_count": 18,
   "id": "61db8f56",
   "metadata": {
    "deletable": false
   },
   "outputs": [
    {
     "name": "stdout",
     "output_type": "stream",
     "text": [
      "6\n",
      "28\n",
      "496\n"
     ]
    }
   ],
   "source": [
    "PerfectNumbers.main(new String[0]);"
   ]
  },
  {
   "cell_type": "markdown",
   "id": "250acc7a",
   "metadata": {
    "deletable": false
   },
   "source": [
    "### Aufgabe 9: Guess My Number [nicht autom. korrigiert]\n",
    "\n",
    "Wir gehen ins Casino und spielen dort ein Spiel. Sie können Teile Ihrer Lösung vom letzten Aufgabenblatt verwenden, ersetzen Sie jedoch die Rekursionen durch Schleifen. Schauen Sie sich die Kommentare der Funktionen an und implementieren Sie diese anhand der Vorgaben in dem Sie die anderen Funktionen verwenden."
   ]
  },
  {
   "cell_type": "code",
   "execution_count": 92,
   "id": "54e6ad5a",
   "metadata": {
    "deletable": false,
    "exercise_id": 9
   },
   "outputs": [],
   "source": [
    "import java.util.Scanner;\n",
    "\n",
    "public class Casino {\n",
    "    \n",
    "    /**\n",
    "     * Asks the user the provided question and returns the entered number.\n",
    "     *\n",
    "     * If the provided input is not an int\n",
    "     * - ... the entire line is read,\n",
    "     * - ... the user is informed about his mistake\n",
    "     * - ... and is asked again for a number until he enters a number.\n",
    "     */\n",
    "    public static int askForNumber(String question) {\n",
    "        \n",
    "        System.out.println(question);\n",
    "        int result = 0;\n",
    "        \n",
    "        Scanner scanner = new Scanner(System.in);\n",
    "        \n",
    "        if (!scanner.hasNextInt()) {\n",
    "            scanner.nextLine();\n",
    "            System.out.println(\"That was not a number.\");\n",
    "            askForNumber(question);\n",
    "        } else {\n",
    "            result = scanner.nextInt();\n",
    "        }\n",
    "        return result; \n",
    "    }\n",
    "    \n",
    "    \n",
    "    /**\n",
    "     * Generates a number from 1 to max, including the limits.\n",
    "     */\n",
    "    public static int generateNumber(int max) {\n",
    "        \n",
    "        int random = (int)(Math.random() * max + 1);\n",
    "        return random;\n",
    "    }\n",
    "    \n",
    "    /**\n",
    "     * The user should guess the number provided as target.\n",
    "     *\n",
    "     * The number is between 1 and max.\n",
    "     * Everytime the number is wrong the coins are halfed.\n",
    "     * Half coins are neglected, i.e. coins are always rounded off.\n",
    "     */\n",
    "    public static int guessMyNumber(int target, int max, int coins) {\n",
    "        int guess = askForNumber(\"Guess the number between 1 and \" + max + \":\");\n",
    "        int counter = 0;\n",
    "        \n",
    "        while (guess != target) {\n",
    "            counter++;\n",
    "            guessMyNumber(target, max, coins);\n",
    "        }\n",
    "        \n",
    "        return coins / (2 * counter);\n",
    "    }\n",
    "    \n",
    "\n",
    "    /**\n",
    "     * Starts a new game with a target number and doubling the coins.\n",
    "     */\n",
    "    public static int playGuessMyNumber(int coins) {\n",
    "        int max = 15;\n",
    "        int target = generateNumber(max);\n",
    "        guessMyNumber(target, max, coins * 2);\n",
    "        return coins;\n",
    "    }\n",
    "    \n",
    "    /**\n",
    "     * Let the player play guess-my-number as long as he has money.\n",
    "     *\n",
    "     * It asks the user how many coins he wants to bet.\n",
    "     * Players who either bet 0 coins, have no more coins, or want to bet\n",
    "     * more coins than they have, have to leave the casino.\n",
    "     */\n",
    "    public static int goToTheCasino(int money) {\n",
    "        System.out.println(\"Welcome to the casino!!!\");\n",
    "        System.out.println(\"You start with \" + money + \" coins.\");\n",
    "        \n",
    "        //Ihre Lösung kommt hier hin\n",
    "        int coins = askForNumber(\"How many coins do you want to bet?\");\n",
    "        \n",
    "        if (coins <= 0 || coins > money) {\n",
    "            System.out.println(\"Please leave.\");\n",
    "            return money;\n",
    "        } else {\n",
    "            playGuessMyNumber(coins);\n",
    "        }\n",
    "        \n",
    "        System.out.println(\"Please leave.\");\n",
    "        return money;\n",
    "    }\n",
    "\n",
    "    /**\n",
    "     * Provides coins to the user and let him go to the casino.\n",
    "     */\n",
    "    public static void main(String[] args) {\n",
    "        int money = 100;\n",
    "        money = goToTheCasino(money);\n",
    "        System.out.println(\"Hmmm .... jetzt habe ich \" + money + \" Coins.\");\n",
    "        System.out.println(\"War ich das letzte mal da?\");\n",
    "    }\n",
    "}"
   ]
  },
  {
   "cell_type": "code",
   "execution_count": 93,
   "id": "d9607d78",
   "metadata": {
    "deletable": false
   },
   "outputs": [
    {
     "name": "stdout",
     "output_type": "stream",
     "text": [
      "Welcome to the casino!!!\n",
      "You start with 100 coins.\n",
      "How many coins do you want to bet?\n",
      "45\n",
      "Guess the number between 1 and 15:\n",
      "3\n",
      "Guess the number between 1 and 15:\n",
      "4\n",
      "Guess the number between 1 and 15:\n",
      "2\n",
      "Guess the number between 1 and 15:\n",
      "1\n"
     ]
    },
    {
     "ename": "EvalException",
     "evalue": "/ by zero",
     "output_type": "error",
     "traceback": [
      "\u001b[1m\u001b[31m---------------------------------------------------------------------------\u001b[0m",
      "\u001b[1m\u001b[31mjava.lang.ArithmeticException: / by zero\u001b[0m",
      "\u001b[1m\u001b[31m\tat Casino.guessMyNumber(#82:1)\u001b[0m",
      "\u001b[1m\u001b[31m\tat Casino.guessMyNumber(#82:1)\u001b[0m",
      "\u001b[1m\u001b[31m\tat Casino.guessMyNumber(#82:1)\u001b[0m",
      "\u001b[1m\u001b[31m\tat Casino.guessMyNumber(#82:1)\u001b[0m",
      "\u001b[1m\u001b[31m\tat Casino.playGuessMyNumber(#82:1)\u001b[0m",
      "\u001b[1m\u001b[31m\tat Casino.goToTheCasino(#82:1)\u001b[0m",
      "\u001b[1m\u001b[31m\tat Casino.main(#82:1)\u001b[0m",
      "\u001b[1m\u001b[31m\tat .(#86:1)\u001b[0m"
     ]
    }
   ],
   "source": [
    "Casino.main(new String[0]);"
   ]
  }
 ],
 "metadata": {
  "exercise_series": "gdp",
  "kernelspec": {
   "display_name": "Java",
   "language": "java",
   "name": "java"
  },
  "language_info": {
   "codemirror_mode": "java",
   "file_extension": ".jshell",
   "mimetype": "text/x-java-source",
   "name": "Java",
   "pygments_lexer": "java",
   "version": "17.0.5+8"
  },
  "notebook_id": 105
 },
 "nbformat": 4,
 "nbformat_minor": 5
}
