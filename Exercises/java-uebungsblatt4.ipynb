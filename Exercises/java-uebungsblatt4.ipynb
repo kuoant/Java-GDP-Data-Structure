{
 "cells": [
  {
   "cell_type": "markdown",
   "metadata": {
    "deletable": false
   },
   "source": [
    "# Grundlagen der Programmierung  <br/> Übungsblatt 04 - Bedingungen und Rekursion\n",
    "#### Marcel Lüthi, Andreas Morel-Forster <br/> Departement Mathematik und Informatik, Universität Basel"
   ]
  },
  {
   "cell_type": "markdown",
   "metadata": {
    "deletable": false
   },
   "source": [
    "In diesem Notebook üben Sie\n",
    "- wie man testet ob der Safe Exam Broser richtig installiert ist.\n",
    "- Bedingungen zu schreiben.\n",
    "- Bedingungen in Methoden auszulagern.\n",
    "- Rekursive Methoden zu schreiben."
   ]
  },
  {
   "cell_type": "markdown",
   "metadata": {
    "deletable": false
   },
   "source": [
    "### Safe Exam Browser (SEB)"
   ]
  },
  {
   "cell_type": "markdown",
   "metadata": {
    "deletable": false
   },
   "source": [
    "Der folgende Link zeigt auf eine Datei, welche mit Ihrem SEB geöffnet wird und diesen konfiguriert. Bitte starten Sie unbedingt VPN, wenn Sie das noch nicht getan haben.\n",
    "\n",
    ">*WICHTIG Bitte schreiben Sie sich das Passwort zum Beenden des SEB auf Papier auf. Das Passwort ist **`gdp`**.*\n",
    "\n",
    "Nach dem Klick auf den Link sollte gefragt werden ob Sie die Aktion mit dem SEB durchführen wollen. Sobald Sie bestätigen sollte sich der SEB öffnen und nach einem Passwort fragen. Das Passwort ist `klausur`. Versuchen Sie sich danach einzuloggen, so dass Sie das Notebook sehen. Klicken Sie nun bitte auf den folgenden Link.\n",
    "\n",
    "[Link zum öffnen des SEB](https://raw.githubusercontent.com/unibas-marcelluethi/gdp-notebooks-hs22/main/SebInstallationTest.seb)\n",
    "\n",
    "Wenn Sie ein Jupyter-Notebook im SEB öffnen konnten, dann haben Sie diese Übung erfolgreich bestanden. Andernfalls versuchen Sie dem Fehler nachzugehen und fragen Sie allenfalls bei Ihren Mitstudierenden, im Tutorat oder im Forum um Hilfe.\n",
    "\n",
    ">*Hinweis: Wenn Ihr Browser die Datei herunterlädt, dann öffnen Sie danach die Datei. Auch dies sollte den SEB öffnen.*"
   ]
  },
  {
   "cell_type": "markdown",
   "metadata": {
    "deletable": false
   },
   "source": [
    "### Aufgabe 1 - Gerade [3 automatische Tests]"
   ]
  },
  {
   "cell_type": "markdown",
   "metadata": {
    "deletable": false
   },
   "source": [
    "Schreiben Sie eine Methode `isEven` welche überprüft ob die übergebene Zahl gerade ist. Dabei soll für gerade Zahlen `\"X ist gerade.\"` ausgegeben werden und für alle ungeraden Zahlen `\"X ist ungerade.\"`.\n",
    "\n",
    "Mögliche Ausgaben sind:\n",
    "- `1 ist ungerade.`\n",
    "- `2 ist gerade.`\n",
    "- `7 ist ungerade.`"
   ]
  },
  {
   "cell_type": "code",
   "execution_count": 4,
   "metadata": {
    "deletable": false,
    "exercise_id": 1
   },
   "outputs": [],
   "source": [
    "public class Even {\n",
    "    // Hier kommt Ihre Lösung hin\n",
    "    public static void isEven(int n) {\n",
    "        if (n % 2 == 0) {\n",
    "            System.out.println(n + \" ist gerade.\");\n",
    "        } else {\n",
    "            System.out.println(n + \" ist ungerade.\");\n",
    "        }\n",
    "    }\n",
    "    \n",
    "    public static void main(String[] args) {\n",
    "        isEven(1);\n",
    "        isEven(2);\n",
    "        isEven(7);\n",
    "        isEven(42);\n",
    "    }\n",
    "}"
   ]
  },
  {
   "cell_type": "code",
   "execution_count": 5,
   "metadata": {
    "deletable": false
   },
   "outputs": [
    {
     "name": "stdout",
     "output_type": "stream",
     "text": [
      "1 ist ungerade.\n",
      "2 ist gerade.\n",
      "7 ist ungerade.\n",
      "42 ist gerade.\n"
     ]
    }
   ],
   "source": [
    "Even.main(new String[0]);"
   ]
  },
  {
   "cell_type": "markdown",
   "metadata": {
    "deletable": false
   },
   "source": [
    "### Aufgabe 2 - Maximum [3 automatische Tests]"
   ]
  },
  {
   "cell_type": "markdown",
   "metadata": {
    "deletable": false
   },
   "source": [
    "Schreiben Sie eine Methode `max3` welche das Maximum von drei Zahlen zurück gibt. Diese soll für Gleitkommazahlen funktionieren."
   ]
  },
  {
   "cell_type": "code",
   "execution_count": 25,
   "metadata": {
    "deletable": false,
    "exercise_id": 2
   },
   "outputs": [],
   "source": [
    "public class MaximumOfThree {\n",
    "    // Hier kommt Ihre Lösung hin\n",
    "    \n",
    "    public static double max3(double a, double b, double c) {\n",
    "        if (a > b) {\n",
    "            if (a > c) {\n",
    "                return a;\n",
    "            } else {\n",
    "                return c;\n",
    "            }\n",
    "        } else {\n",
    "            if (b > c) {\n",
    "                return b;\n",
    "            } else {\n",
    "                return c;\n",
    "            }\n",
    "        }\n",
    "        \n",
    "    }\n",
    "\n",
    "    public static void main(String[] args) {\n",
    "        System.out.println(max3(-9,-7,-7));\n",
    "    }\n",
    "}"
   ]
  },
  {
   "cell_type": "code",
   "execution_count": 26,
   "metadata": {
    "deletable": false
   },
   "outputs": [
    {
     "name": "stdout",
     "output_type": "stream",
     "text": [
      "-7.0\n"
     ]
    }
   ],
   "source": [
    "MaximumOfThree.main(new String[0]);"
   ]
  },
  {
   "cell_type": "markdown",
   "metadata": {
    "deletable": false
   },
   "source": [
    "### Aufgabe 3 - Fitze Fatze [4 automatische Tests]"
   ]
  },
  {
   "cell_type": "markdown",
   "metadata": {
    "deletable": false
   },
   "source": [
    "Schreiben Sie eine Methode `fitzeFatze`, welche als Parameter eine ganze Zahl entgegen nimmt. \n",
    "* Falls die Zahl durch 3 teilbar ist, soll `\"fitze\"` zurück gegeben werden.\n",
    "* Falls die Zahl durch 5 teilbar ist, soll `\"fatze\"` zurück gegeben werden.\n",
    "* Falls die Zahl durch 3 und 5 teilbar ist, soll `\"fitzefatze\"` zurück gegeben werden.\n",
    "* In jedem anderen Fall soll die übergebene Zahl als Test zurück gegeben werden (z.B. für 8 soll \"8\" zurück gegeben werden). \n",
    "\n",
    "*Hinweis: Falls beim lösen dieses Übungsblatt etwas Frustration aufkommen sollte, empfehlen wir Ihnen das zur [Übung passende Lied](https://www.youtube.com/watch?v=neilsnaMI1U) zu hören.*"
   ]
  },
  {
   "cell_type": "code",
   "execution_count": 1,
   "metadata": {
    "deletable": false,
    "exercise_id": 3
   },
   "outputs": [],
   "source": [
    "public class FitzeFatze {\n",
    "    // Hier kommt Ihre Lösung hin\n",
    "    public static String fitzeFatze(int n) {\n",
    "        if (n % 3 == 0 && n % 5 == 0) {\n",
    "            return \"fitzefatze\";\n",
    "        } else if (n % 3 == 0) {\n",
    "            return \"fitze\";\n",
    "        } else if (n % 5 == 0) {\n",
    "            return \"fatze\";\n",
    "        } else {\n",
    "            return String.format(\"%d\", n);\n",
    "        }\n",
    "    }\n",
    "    \n",
    "    public static void main(String[] args) {\n",
    "        System.out.println(fitzeFatze(15));\n",
    "    }\n",
    "}\n"
   ]
  },
  {
   "cell_type": "code",
   "execution_count": 2,
   "metadata": {},
   "outputs": [
    {
     "name": "stdout",
     "output_type": "stream",
     "text": [
      "fitzefatze\n"
     ]
    }
   ],
   "source": [
    "FitzeFatze.main(new String[0]);"
   ]
  },
  {
   "cell_type": "markdown",
   "metadata": {
    "deletable": false
   },
   "source": [
    "### Aufgabe 4 - Form [3 automatische Tests]"
   ]
  },
  {
   "cell_type": "markdown",
   "metadata": {
    "deletable": false
   },
   "source": [
    "![Kreuz](images/cross.png)\n",
    "\n",
    "Schreiben Sie eine Methode `isInside` welche für die Koordinate (`x`, `y`) prüft, ob diese innerhalb oder ausserhalb der im Bild gezeigten Form liegt. Innerhalb der Form soll der Wahrheitswert `true` zurück gegeben werden, sonst soll `false` zurück gegeben werden.\n",
    "\n",
    "- Die Koordinate können Sie als zwei Gleitkommazahlen repräsentieren.\n",
    "- Der Rand der Form ist immer auf einer ganzen Zahl.\n",
    "- Sie können wählen ob der Rand zur Form gehört oder nicht."
   ]
  },
  {
   "cell_type": "code",
   "execution_count": 4,
   "metadata": {
    "deletable": false,
    "exercise_id": 4
   },
   "outputs": [],
   "source": [
    "public class Shape {\n",
    "    // Hier kommt Ihre Lösung hin\n",
    "    public static boolean isInside(double x, double y) {\n",
    "        if (-2 <= x && x <= 1 && -1 <= y && y <= 1) {\n",
    "            return true;\n",
    "        } else if (1 <= x && x <= 3 && -2 <= y && y <= 3) {\n",
    "            return true;\n",
    "        } else if (3 <= x && x <= 4 && -1 <= y && y <= 1) {\n",
    "            return true;\n",
    "        } else {\n",
    "            return false;\n",
    "        }\n",
    "    }\n",
    "    \n",
    "    public static void main(String[] args) {\n",
    "        System.out.println(isInside(-2,-1));\n",
    "    }\n",
    "}\n"
   ]
  },
  {
   "cell_type": "code",
   "execution_count": 5,
   "metadata": {},
   "outputs": [
    {
     "name": "stdout",
     "output_type": "stream",
     "text": [
      "true\n"
     ]
    }
   ],
   "source": [
    "Shape.main(new String[0]);"
   ]
  },
  {
   "cell_type": "markdown",
   "metadata": {
    "deletable": false
   },
   "source": [
    "### Aufgabe 5 - Dreieck [2 automatische Tests]"
   ]
  },
  {
   "cell_type": "markdown",
   "metadata": {
    "deletable": false
   },
   "source": [
    "Für jedes nicht entartete Dreieck gilt: Die Summe zweier beliebiger Seitenlängen muss grösser sein als die dritte Seitenlänge.\n",
    "\n",
    "Schreiben Sie eine Methode `isTriangle`. Die Methode soll drei Längen übergeben bekommen und zurück geben, ob diese die Seitenlängen eines Dreiecks sein können oder nicht. "
   ]
  },
  {
   "cell_type": "code",
   "execution_count": 6,
   "metadata": {
    "deletable": false,
    "exercise_id": 5
   },
   "outputs": [],
   "source": [
    "public class Triangle {\n",
    "    // Hier kommt Ihre Lösung hin\n",
    "    public static boolean isTriangle(int a, int b, int c) {\n",
    "        if (a + b > c) {\n",
    "            if (b + c > a) {\n",
    "                if (a + c > b) {\n",
    "                    return true;\n",
    "                }\n",
    "            }\n",
    "        }\n",
    "        return false;\n",
    "    }\n",
    "    \n",
    "    public static void main(String[] args) {\n",
    "        System.out.println(isTriangle(3,2,2));\n",
    "    }\n",
    "}"
   ]
  },
  {
   "cell_type": "code",
   "execution_count": 7,
   "metadata": {},
   "outputs": [
    {
     "name": "stdout",
     "output_type": "stream",
     "text": [
      "true\n"
     ]
    }
   ],
   "source": [
    "\n",
    "Triangle.main(new String[0]);"
   ]
  },
  {
   "cell_type": "markdown",
   "metadata": {
    "deletable": false
   },
   "source": [
    "### Aufgabe 6 - Rekursive Summe [3 automatische Tests]"
   ]
  },
  {
   "cell_type": "markdown",
   "metadata": {
    "deletable": false
   },
   "source": [
    "Schreiben Sie eine Methode `sumFromZeroTo` welche eine ganze Zahl übergeben bekommt. Die Methode soll alle ganzen Zahlen von 0 bis zur übergebenen Zahl summieren.\n",
    "\n",
    "Verwenden Sie nicht die Formel $\\sum\\limits_{n = 0}^Nn = \\frac{N \\dot (N+1)}{2}$."
   ]
  },
  {
   "cell_type": "code",
   "execution_count": 8,
   "metadata": {
    "deletable": false,
    "exercise_id": 6
   },
   "outputs": [],
   "source": [
    "public class RecursiveSum {\n",
    "    // Hier kommt Ihre Lösung hin\n",
    "    public static int sumFromZeroTo(int n) {\n",
    "        \n",
    "        int sum = 0;\n",
    "        \n",
    "        if (n == 0) {\n",
    "            return 0;\n",
    "        } else {\n",
    "            sum += n + sumFromZeroTo(n-1);\n",
    "        }\n",
    "        return sum;\n",
    "    }\n",
    "    \n",
    "    public static void main(String[] args) {\n",
    "        System.out.println(sumFromZeroTo(5));\n",
    "    }\n",
    "}"
   ]
  },
  {
   "cell_type": "code",
   "execution_count": 9,
   "metadata": {},
   "outputs": [
    {
     "name": "stdout",
     "output_type": "stream",
     "text": [
      "15\n"
     ]
    }
   ],
   "source": [
    "\n",
    "RecursiveSum.main(new String[0]);"
   ]
  },
  {
   "cell_type": "markdown",
   "metadata": {
    "deletable": false
   },
   "source": [
    "### Aufgabe 7 -  Kochkurve [nicht autm. korrigiert]\n",
    "\n",
    "In dieser Aufgabe wollen wir etwas schönes Zeichnen, jedoch mit Rekursion. Die Kurve heisst Kochkurve. Die Idee ist, wie tiefer die Rekursion geht, desto mehr Details werden gezeichnet. Sie sehen im folgenden Bild die Ergebnisse der Aufrufe mit Parameter 0 bis 4.\n",
    "\n",
    "![Kochkurve](images/koch.png)\n",
    "\n",
    "Wenn wir den Aufruf mit 0 betrachten, dann sehen wir was im Fall des Rekursionsabbruchs passieren soll. Mit dem Wissen was beim Aufruf mit 0 rauskommt und wenn wir dies mit dem Aufruf mit Parameter 1 betrachten, kann man herausfinden wie oft sich die Methode selber aufruft und was zwischen den Aufrufen passieren soll.\n",
    "\n",
    "- Schreiben Sie eine Methode `koch` welche Sie mit dem gewünschten Anzahl Rekursionen (Level) und einer Gesamtlänge (z.B. 100) aufrufen können. Dann soll die entsprechende Kurve vom Bild gezeichnet werden. Sie müssen nicht das Bild mit allen Kurven gleichzeitg zeichnen können.\n",
    "- *BONUS: Sie können die Kochkurve dreimal zeichnen, als Seiten eines gleichseitigen Dreiecks, und erhalten dann eine schöne Schneeflocke.*"
   ]
  },
  {
   "cell_type": "code",
   "execution_count": 10,
   "metadata": {
    "deletable": false
   },
   "outputs": [],
   "source": [
    "%mavenRepo shapemodelling-repo https://shapemodelling.cs.unibas.ch/repo/\n",
    "%maven ch.unibas.informatik:jturtle:0.7"
   ]
  },
  {
   "cell_type": "code",
   "execution_count": 11,
   "metadata": {
    "deletable": false
   },
   "outputs": [],
   "source": [
    "import static ch.unibas.informatik.jturtle.TurtleCommands.*;\n",
    "import java.awt.Color;"
   ]
  },
  {
   "cell_type": "code",
   "execution_count": 12,
   "metadata": {
    "deletable": false,
    "exercise_id": 7
   },
   "outputs": [],
   "source": [
    "public class Curve {\n",
    "    \n",
    "    public static void koch(int level, double length) {\n",
    "        if (level == 0) {\n",
    "            forward(length);\n",
    "        } else {\n",
    "            koch(level - 1, length/3);\n",
    "            turnLeft(60);\n",
    "            koch(level - 1, length/3);\n",
    "            turnRight(120);\n",
    "            koch(level - 1, length/3);\n",
    "            turnLeft(60);\n",
    "            koch(level - 1, length/3);\n",
    "        }\n",
    "    }\n",
    "\n",
    "    public static void main(String[] args) {\n",
    "        int level = 2;\n",
    "        int length = 100;\n",
    "        \n",
    "        home();\n",
    "        reset();\n",
    "        turnRight(90);\n",
    "        backward(50);\n",
    "        clear();\n",
    "        \n",
    "        penDown();\n",
    "        koch(level, length);\n",
    "//         turnRight(120);\n",
    "//         koch(level, length);\n",
    "//         turnRight(120);\n",
    "//         koch(level, length);\n",
    "        \n",
    "        display(drawing());\n",
    "    }\n",
    "}"
   ]
  },
  {
   "cell_type": "code",
   "execution_count": 13,
   "metadata": {},
   "outputs": [
    {
     "data": {
      "image/png": "[encoded data removed]",
      "text/plain": [
       "BufferedImage@591db734: type = 2 DirectColorModel: rmask=ff0000 gmask=ff00 bmask=ff amask=ff000000 IntegerInterleavedRaster: width = 1024 height = 1024 #Bands = 4 xOff = 0 yOff = 0 dataOffset[0] 0"
      ]
     },
     "metadata": {},
     "output_type": "display_data"
    }
   ],
   "source": [
    "Curve.main(new String[0]);"
   ]
  },
  {
   "cell_type": "markdown",
   "metadata": {
    "deletable": false
   },
   "source": [
    "### Aufgabe 8 - Guess my Number"
   ]
  },
  {
   "cell_type": "markdown",
   "metadata": {
    "deletable": false
   },
   "source": [
    "Wir wollen das Spiel `GuessTheNumber` erweitern, welches Sie auf Blatt 3 in der Aufgabe **Scanner** geschrieben haben. Versuchen Sie folgende 3 Punkte umzusetzten:\n",
    "\n",
    "- Vergleichen Sie die Zahl welche der Benutzer eingibt mit der gesuchten Zahl und geben Sie als Antwort aus, ob die Zahl gefunden wurde oder nicht.\n",
    "- Verwenden Sie Rekursion um so lange den Benutzer nach einer neuen Zahl zu fragen, bis die Zahl erraten ist.\n",
    "- Verwenden Sie Rekursion um den Benutzer so lange nach einer Zahl zu fragen, bis er auch eine Zahl eingegeben hat. Als Test ob eine Zahl eingegeben wurde, können Sie die Methode `hasNextInt()` wie `nextInt()` aufrufen. Diese Methode gibt `true` zurück, sobald eine Zahl gelesen werden kann. Die Zahl können Sie dann wie gehabt mit `nextInt()` abfragen.\n",
    "\n",
    "Als Startpunkt eine mögliche Lösung für die Aufgabe vom letzten mal."
   ]
  },
  {
   "cell_type": "code",
   "execution_count": 84,
   "metadata": {
    "deletable": false,
    "exercise_id": 8
   },
   "outputs": [],
   "source": [
    "import java.util.Scanner;\n",
    "\n",
    "public class GuessMyNumber {\n",
    "    \n",
    "    public static int askForNumber() {\n",
    "        System.out.println(\"Please guess my number between 1 to 10:\");\n",
    "        Scanner userInput = new Scanner(System.in);\n",
    "        if (userInput.hasNextInt()) {\n",
    "            int value = userInput.nextInt();\n",
    "            return value;\n",
    "        } else {\n",
    "            return askForNumber();\n",
    "        }\n",
    "        \n",
    "    }\n",
    "    \n",
    "    public static int generateNumber() {\n",
    "        double value = Math.random() * 10;\n",
    "        return (int) Math.floor(value);\n",
    "    }\n",
    "    \n",
    "    public static void posAnswer(int goal, int guess) {\n",
    "        System.out.println(\"Sie haben die Zahl \" + guess + \" gewählt.\");\n",
    "        System.out.println(\"Ich habe an die Zahl \" + goal + \" gedacht.\");\n",
    "        System.out.println(\"Das war korrekt.\");\n",
    "    }\n",
    "    \n",
    "    public static void negAnswer(int goal, int guess) {\n",
    "        System.out.println(\"Sie haben die Zahl \" + guess + \" gewählt.\");\n",
    "        System.out.println(\"Ich habe an die Zahl \" + goal + \" gedacht.\");\n",
    "        System.out.println(\"Das war leider falsch. Viel Glück beim nächsten Mal.\");\n",
    "    }\n",
    "\n",
    "    public static void guessMyNumber() {\n",
    "        int goal = generateNumber();\n",
    "        int guess = askForNumber();\n",
    "        if (guess == goal) {\n",
    "            posAnswer(goal, guess);\n",
    "        } else {\n",
    "            negAnswer(goal, guess);\n",
    "            guessMyNumber();\n",
    "        }\n",
    "        \n",
    "    }\n",
    "\n",
    "    public static void main(String[] args) {\n",
    "        guessMyNumber();\n",
    "    }\n",
    "}"
   ]
  },
  {
   "cell_type": "code",
   "execution_count": 85,
   "metadata": {
    "deletable": false
   },
   "outputs": [
    {
     "name": "stdout",
     "output_type": "stream",
     "text": [
      "Please guess my number between 1 to 10:\n",
      "dfoij\n",
      "Please guess my number between 1 to 10:\n",
      "dfjks\n",
      "Please guess my number between 1 to 10:\n",
      "ladsgkj\n",
      "Please guess my number between 1 to 10:\n",
      "3\n",
      "Sie haben die Zahl 3 gewählt.\n",
      "Ich habe an die Zahl 6 gedacht.\n",
      "Das war leider falsch. Viel Glück beim nächsten Mal.\n",
      "Please guess my number between 1 to 10:\n",
      "4\n",
      "Sie haben die Zahl 4 gewählt.\n",
      "Ich habe an die Zahl 0 gedacht.\n",
      "Das war leider falsch. Viel Glück beim nächsten Mal.\n",
      "Please guess my number between 1 to 10:\n",
      "1\n",
      "Sie haben die Zahl 1 gewählt.\n",
      "Ich habe an die Zahl 4 gedacht.\n",
      "Das war leider falsch. Viel Glück beim nächsten Mal.\n",
      "Please guess my number between 1 to 10:\n",
      "1\n",
      "Sie haben die Zahl 1 gewählt.\n",
      "Ich habe an die Zahl 3 gedacht.\n",
      "Das war leider falsch. Viel Glück beim nächsten Mal.\n",
      "Please guess my number between 1 to 10:\n",
      "1\n",
      "Sie haben die Zahl 1 gewählt.\n",
      "Ich habe an die Zahl 7 gedacht.\n",
      "Das war leider falsch. Viel Glück beim nächsten Mal.\n",
      "Please guess my number between 1 to 10:\n",
      "4\n",
      "Sie haben die Zahl 4 gewählt.\n",
      "Ich habe an die Zahl 1 gedacht.\n",
      "Das war leider falsch. Viel Glück beim nächsten Mal.\n",
      "Please guess my number between 1 to 10:\n",
      "5\n",
      "Sie haben die Zahl 5 gewählt.\n",
      "Ich habe an die Zahl 5 gedacht.\n",
      "Das war korrekt.\n"
     ]
    }
   ],
   "source": [
    "GuessMyNumber.main(new String[0]);"
   ]
  }
 ],
 "metadata": {
  "celltoolbar": "Edit Metadata",
  "exercise_series": "gdp",
  "kernelspec": {
   "display_name": "Java",
   "language": "java",
   "name": "java"
  },
  "language_info": {
   "codemirror_mode": "java",
   "file_extension": ".jshell",
   "mimetype": "text/x-java-source",
   "name": "Java",
   "pygments_lexer": "java",
   "version": "17.0.5+8"
  },
  "notebook_id": 104,
  "toc": {
   "base_numbering": 1,
   "nav_menu": {},
   "number_sections": false,
   "sideBar": false,
   "skip_h1_title": false,
   "title_cell": "Table of Contents",
   "title_sidebar": "Contents",
   "toc_cell": false,
   "toc_position": {},
   "toc_section_display": false,
   "toc_window_display": false
  }
 },
 "nbformat": 4,
 "nbformat_minor": 4
}
